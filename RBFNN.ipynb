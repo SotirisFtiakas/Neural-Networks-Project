{
 "cells": [
  {
   "cell_type": "markdown",
   "metadata": {},
   "source": [
    "# To run this successfully, run every cell from top to bottom\n",
    "\n",
    "### Note: Every cell has already been run by me, and results are shown, so there is no need to actually run everything."
   ]
  },
  {
   "cell_type": "code",
   "execution_count": 115,
   "metadata": {},
   "outputs": [],
   "source": [
    "# For the purpose of this project, I used a dataset I found in Kaggle, called \"Fashion-MNIST\" which is a slight\n",
    "# variation to the commonly known MNIST dataset. I decided to use the \"Fashion-MNIST\" dataset just to differ from \n",
    "# the others hehe.\n",
    "\n",
    "# Link: https://www.kaggle.com/zalando-research/fashionmnist"
   ]
  },
  {
   "cell_type": "code",
   "execution_count": 2,
   "metadata": {},
   "outputs": [],
   "source": [
    "# Here we import all the need libraries\n",
    "\n",
    "import pandas as pd\n",
    "import numpy as np\n",
    "import heapq\n",
    "import timeit\n",
    "\n",
    "from sklearn.metrics.pairwise import euclidean_distances\n",
    "from sklearn.metrics.pairwise import manhattan_distances\n",
    "from sklearn.metrics.pairwise import cosine_similarity\n",
    "\n",
    "from sklearn.metrics import classification_report"
   ]
  },
  {
   "cell_type": "code",
   "execution_count": 3,
   "metadata": {},
   "outputs": [],
   "source": [
    "# Load the datasets from the FashionMNIST folder.\n",
    "\n",
    "data_train = pd.read_csv(\"./FashionMNIST/fashion-mnist_train.csv\")\n",
    "data_test = pd.read_csv(\"./FashionMNIST/fashion-mnist_test.csv\")"
   ]
  },
  {
   "cell_type": "code",
   "execution_count": 4,
   "metadata": {},
   "outputs": [],
   "source": [
    "# Dictionary to indicate which class number corresponds to which type of clothing\n",
    "\n",
    "fashionmnist = {\n",
    "    \"0\": \"T-shirt/top\",\n",
    "    \"1\": \"Trouser\",\n",
    "    \"2\": \"Pullover\",\n",
    "    \"3\": \"Dress\",\n",
    "    \"4\": \"Coat\",\n",
    "    \"5\": \"Sandal\",\n",
    "    \"6\": \"Shirt\",\n",
    "    \"7\": \"Sneaker\",\n",
    "    \"8\": \"Bag\",\n",
    "    \"9\": \"Ankle boot\",\n",
    "}"
   ]
  },
  {
   "cell_type": "code",
   "execution_count": 5,
   "metadata": {},
   "outputs": [
    {
     "data": {
      "text/html": [
       "<div>\n",
       "<style scoped>\n",
       "    .dataframe tbody tr th:only-of-type {\n",
       "        vertical-align: middle;\n",
       "    }\n",
       "\n",
       "    .dataframe tbody tr th {\n",
       "        vertical-align: top;\n",
       "    }\n",
       "\n",
       "    .dataframe thead th {\n",
       "        text-align: right;\n",
       "    }\n",
       "</style>\n",
       "<table border=\"1\" class=\"dataframe\">\n",
       "  <thead>\n",
       "    <tr style=\"text-align: right;\">\n",
       "      <th></th>\n",
       "      <th>label</th>\n",
       "      <th>pixel1</th>\n",
       "      <th>pixel2</th>\n",
       "      <th>pixel3</th>\n",
       "      <th>pixel4</th>\n",
       "      <th>pixel5</th>\n",
       "      <th>pixel6</th>\n",
       "      <th>pixel7</th>\n",
       "      <th>pixel8</th>\n",
       "      <th>pixel9</th>\n",
       "      <th>...</th>\n",
       "      <th>pixel775</th>\n",
       "      <th>pixel776</th>\n",
       "      <th>pixel777</th>\n",
       "      <th>pixel778</th>\n",
       "      <th>pixel779</th>\n",
       "      <th>pixel780</th>\n",
       "      <th>pixel781</th>\n",
       "      <th>pixel782</th>\n",
       "      <th>pixel783</th>\n",
       "      <th>pixel784</th>\n",
       "    </tr>\n",
       "  </thead>\n",
       "  <tbody>\n",
       "    <tr>\n",
       "      <th>0</th>\n",
       "      <td>0</td>\n",
       "      <td>0</td>\n",
       "      <td>0</td>\n",
       "      <td>0</td>\n",
       "      <td>0</td>\n",
       "      <td>0</td>\n",
       "      <td>0</td>\n",
       "      <td>0</td>\n",
       "      <td>9</td>\n",
       "      <td>8</td>\n",
       "      <td>...</td>\n",
       "      <td>103</td>\n",
       "      <td>87</td>\n",
       "      <td>56</td>\n",
       "      <td>0</td>\n",
       "      <td>0</td>\n",
       "      <td>0</td>\n",
       "      <td>0</td>\n",
       "      <td>0</td>\n",
       "      <td>0</td>\n",
       "      <td>0</td>\n",
       "    </tr>\n",
       "    <tr>\n",
       "      <th>1</th>\n",
       "      <td>1</td>\n",
       "      <td>0</td>\n",
       "      <td>0</td>\n",
       "      <td>0</td>\n",
       "      <td>0</td>\n",
       "      <td>0</td>\n",
       "      <td>0</td>\n",
       "      <td>0</td>\n",
       "      <td>0</td>\n",
       "      <td>0</td>\n",
       "      <td>...</td>\n",
       "      <td>34</td>\n",
       "      <td>0</td>\n",
       "      <td>0</td>\n",
       "      <td>0</td>\n",
       "      <td>0</td>\n",
       "      <td>0</td>\n",
       "      <td>0</td>\n",
       "      <td>0</td>\n",
       "      <td>0</td>\n",
       "      <td>0</td>\n",
       "    </tr>\n",
       "    <tr>\n",
       "      <th>2</th>\n",
       "      <td>2</td>\n",
       "      <td>0</td>\n",
       "      <td>0</td>\n",
       "      <td>0</td>\n",
       "      <td>0</td>\n",
       "      <td>0</td>\n",
       "      <td>0</td>\n",
       "      <td>14</td>\n",
       "      <td>53</td>\n",
       "      <td>99</td>\n",
       "      <td>...</td>\n",
       "      <td>0</td>\n",
       "      <td>0</td>\n",
       "      <td>0</td>\n",
       "      <td>0</td>\n",
       "      <td>63</td>\n",
       "      <td>53</td>\n",
       "      <td>31</td>\n",
       "      <td>0</td>\n",
       "      <td>0</td>\n",
       "      <td>0</td>\n",
       "    </tr>\n",
       "    <tr>\n",
       "      <th>3</th>\n",
       "      <td>2</td>\n",
       "      <td>0</td>\n",
       "      <td>0</td>\n",
       "      <td>0</td>\n",
       "      <td>0</td>\n",
       "      <td>0</td>\n",
       "      <td>0</td>\n",
       "      <td>0</td>\n",
       "      <td>0</td>\n",
       "      <td>0</td>\n",
       "      <td>...</td>\n",
       "      <td>137</td>\n",
       "      <td>126</td>\n",
       "      <td>140</td>\n",
       "      <td>0</td>\n",
       "      <td>133</td>\n",
       "      <td>224</td>\n",
       "      <td>222</td>\n",
       "      <td>56</td>\n",
       "      <td>0</td>\n",
       "      <td>0</td>\n",
       "    </tr>\n",
       "    <tr>\n",
       "      <th>4</th>\n",
       "      <td>3</td>\n",
       "      <td>0</td>\n",
       "      <td>0</td>\n",
       "      <td>0</td>\n",
       "      <td>0</td>\n",
       "      <td>0</td>\n",
       "      <td>0</td>\n",
       "      <td>0</td>\n",
       "      <td>0</td>\n",
       "      <td>0</td>\n",
       "      <td>...</td>\n",
       "      <td>0</td>\n",
       "      <td>0</td>\n",
       "      <td>0</td>\n",
       "      <td>0</td>\n",
       "      <td>0</td>\n",
       "      <td>0</td>\n",
       "      <td>0</td>\n",
       "      <td>0</td>\n",
       "      <td>0</td>\n",
       "      <td>0</td>\n",
       "    </tr>\n",
       "  </tbody>\n",
       "</table>\n",
       "<p>5 rows × 785 columns</p>\n",
       "</div>"
      ],
      "text/plain": [
       "   label  pixel1  pixel2  pixel3  pixel4  pixel5  pixel6  pixel7  pixel8  \\\n",
       "0      0       0       0       0       0       0       0       0       9   \n",
       "1      1       0       0       0       0       0       0       0       0   \n",
       "2      2       0       0       0       0       0       0      14      53   \n",
       "3      2       0       0       0       0       0       0       0       0   \n",
       "4      3       0       0       0       0       0       0       0       0   \n",
       "\n",
       "   pixel9  ...  pixel775  pixel776  pixel777  pixel778  pixel779  pixel780  \\\n",
       "0       8  ...       103        87        56         0         0         0   \n",
       "1       0  ...        34         0         0         0         0         0   \n",
       "2      99  ...         0         0         0         0        63        53   \n",
       "3       0  ...       137       126       140         0       133       224   \n",
       "4       0  ...         0         0         0         0         0         0   \n",
       "\n",
       "   pixel781  pixel782  pixel783  pixel784  \n",
       "0         0         0         0         0  \n",
       "1         0         0         0         0  \n",
       "2        31         0         0         0  \n",
       "3       222        56         0         0  \n",
       "4         0         0         0         0  \n",
       "\n",
       "[5 rows x 785 columns]"
      ]
     },
     "execution_count": 5,
     "metadata": {},
     "output_type": "execute_result"
    }
   ],
   "source": [
    "# Representation of how the dataset looks like.\n",
    "\n",
    "data_test.head()"
   ]
  },
  {
   "cell_type": "code",
   "execution_count": 6,
   "metadata": {},
   "outputs": [],
   "source": [
    "# Split the train and test dataframes into features(X) and labels(Y)\n",
    "\n",
    "X_train = data_train.drop([\"label\"],axis=1)\n",
    "Y_train = data_train[[\"label\"]].values.ravel()\n",
    "X_test = data_test.drop([\"label\"],axis=1)\n",
    "Y_test = data_test[[\"label\"]].values.ravel()\n",
    "\n",
    "# I used .ravel() due to some inconsistences with the dataset (..Thanks StackOverflow :D)\n",
    "\n",
    "# Also, since all features range from 0 to 255, we don't need to normalize them."
   ]
  },
  {
   "cell_type": "code",
   "execution_count": 7,
   "metadata": {},
   "outputs": [
    {
     "data": {
      "text/plain": [
       "((60000, 784), (60000,), (10000, 784), (10000,))"
      ]
     },
     "execution_count": 7,
     "metadata": {},
     "output_type": "execute_result"
    }
   ],
   "source": [
    "# We can look at how many rows and columns each dataset has\n",
    "\n",
    "X_train.shape, Y_train.shape, X_test.shape, Y_test.shape"
   ]
  },
  {
   "cell_type": "code",
   "execution_count": 8,
   "metadata": {},
   "outputs": [],
   "source": [
    "# Function to create different kind of sizes for training datasets (For testing purposes)\n",
    "\n",
    "def create_dataset(size):\n",
    "    \"\"\"makes a dataset of size \"size\", and returns that datasets images and targets\n",
    "    This is used to make the dataset that will be stored by a model and used in \n",
    "    experimenting with different stored dataset sizes\n",
    "    \"\"\"\n",
    "    small_x_train = X_train[:size]\n",
    "    small_y_train = Y_train[:size]\n",
    "    \n",
    "    return small_x_train, small_y_train\n"
   ]
  },
  {
   "cell_type": "code",
   "execution_count": 9,
   "metadata": {},
   "outputs": [],
   "source": [
    "# Function to create different kind of sizes for testing datasets (For testing purposes)\n",
    "\n",
    "def create_test_dataset(size):\n",
    "    \"\"\"makes a dataset of size \"size\", and returns that datasets images and targets\n",
    "    This is used to make the dataset that will be tested by a model and used in \n",
    "    experimenting with different test dataset sizes\n",
    "    \"\"\"\n",
    "    small_x_test = X_test[:size]\n",
    "    small_y_test = Y_test[:size]\n",
    "    \n",
    "    return small_x_test, small_y_test"
   ]
  },
  {
   "cell_type": "code",
   "execution_count": 244,
   "metadata": {},
   "outputs": [
    {
     "data": {
      "text/plain": [
       "((60000, 784), (60000,))"
      ]
     },
     "execution_count": 244,
     "metadata": {},
     "output_type": "execute_result"
    }
   ],
   "source": [
    "# Smaller train set of 1000 rows (I put it 60000 for the final project)\n",
    "\n",
    "small_x_train, small_y_train = create_dataset(60000)\n",
    "\n",
    "small_x_train.shape, small_y_train.shape"
   ]
  },
  {
   "cell_type": "code",
   "execution_count": 245,
   "metadata": {},
   "outputs": [
    {
     "data": {
      "text/plain": [
       "((10000, 784), (10000,))"
      ]
     },
     "execution_count": 245,
     "metadata": {},
     "output_type": "execute_result"
    }
   ],
   "source": [
    "# Smaller test set of 1000 rows (I put it 10000 for the final project)\n",
    "\n",
    "small_x_test, small_y_test = create_test_dataset(10000)\n",
    "\n",
    "small_x_test.shape, small_y_test.shape"
   ]
  },
  {
   "cell_type": "code",
   "execution_count": 222,
   "metadata": {},
   "outputs": [],
   "source": [
    "# Import some important libraries and features\n",
    "\n",
    "\n",
    "import matplotlib.pyplot as plt"
   ]
  },
  {
   "cell_type": "code",
   "execution_count": 229,
   "metadata": {},
   "outputs": [],
   "source": [
    "import numpy as np\n",
    "\n",
    "\n",
    "# function to get the euclidean distance between 2 points\n",
    "\n",
    "def get_distance(x1, x2):\n",
    "    sum = 0\n",
    "    for i in range(len(x1)):\n",
    "        sum += (x1[i] - x2[i]) ** 2\n",
    "    return np.sqrt(sum)\n",
    "\n",
    "\n",
    "# function for choosing random centroids\n",
    "\n",
    "def random_centroids(X, k):\n",
    "  \n",
    "    centroids = X[np.random.choice(range(len(X)), k, replace=False)]\n",
    "\n",
    "    return np.array(centroids)"
   ]
  },
  {
   "cell_type": "code",
   "execution_count": 129,
   "metadata": {},
   "outputs": [],
   "source": [
    "# Code snippet by https://gist.github.com/tarlanahad/"
   ]
  },
  {
   "cell_type": "code",
   "execution_count": 152,
   "metadata": {},
   "outputs": [],
   "source": [
    "from sklearn.cluster import KMeans\n",
    "\n",
    "# class for radial basis function\n",
    "\n",
    "class RBF:\n",
    "\n",
    "    def __init__(self, X, y, tX, ty, centroids_method, num_of_classes,\n",
    "                 k):\n",
    "        self.X = X\n",
    "        self.y = y\n",
    "\n",
    "        self.tX = tX\n",
    "        self.ty = ty\n",
    "        \n",
    "        self.centroids_method = centroids_method\n",
    "\n",
    "        self.number_of_classes = num_of_classes\n",
    "        self.k = k\n",
    "\n",
    "        \n",
    "    # one-hot-encoding of labels\n",
    "    def convert_to_one_hot(self, x, num_of_classes):\n",
    "        arr = np.zeros((len(x), num_of_classes))\n",
    "        for i in range(len(x)):\n",
    "            c = int(x[i])\n",
    "            arr[i][c] = 1\n",
    "        return arr\n",
    "\n",
    "    # calculate an exponential function with a negative power of the euclidean distance \n",
    "    # between a point and its cluster's centroid \n",
    "    def rbf(self, x, c, s):\n",
    "        distance = get_distance(x, c)\n",
    "        return 1 / np.exp(-distance / s ** 2)\n",
    "\n",
    "    # calculate the data matrix with activation functions\n",
    "    def rbf_list(self, X, centroids, beta):\n",
    "        RBF_list = []\n",
    "        for x in X:\n",
    "            RBF_list.append([self.rbf(x, c, s) for (c, s) in zip(centroids, beta)])\n",
    "\n",
    "        return np.array(RBF_list)\n",
    "    \n",
    "    # run rbfnn\n",
    "    def fit(self):\n",
    "\n",
    "        start = timeit.default_timer()\n",
    "        \n",
    "        # choose how centers will be selected\n",
    "        if self.centroids_method == \"kmeans\":\n",
    "            kmeans = KMeans(n_clusters=self.k, random_state=0).fit(self.X)\n",
    "            self.centroids = kmeans.cluster_centers_\n",
    "        elif self.centroids_method == \"random\":\n",
    "            self.centroids = random_centroids(self.X,self.k)\n",
    "        \n",
    "        stop = timeit.default_timer()\n",
    "        time1 = stop - start\n",
    "        print('Time1: ', time1)\n",
    "\n",
    "\n",
    "        \n",
    "        # calculate the maximum distance between two centroids\n",
    "        dMax = np.max([get_distance(c1, c2) for c1 in self.centroids for c2 in self.centroids])\n",
    "        # use dMax to calculate the beta(β) coefficient, representing the gaussian processes' range\n",
    "        self.beta = np.repeat(dMax / np.sqrt(2 * self.k), self.k)\n",
    "\n",
    "\n",
    "        start = timeit.default_timer()\n",
    "        \n",
    "        # calculate data matrix A of activation functions, after hidden centroid layer \n",
    "        A = self.rbf_list(self.X, self.centroids, self.beta)\n",
    "        \n",
    "        stop = timeit.default_timer()\n",
    "        time3 = stop - start\n",
    "        print('Time3: ', time3)\n",
    "\n",
    "        \n",
    "        # Find the absolute minimum of error using linear algebra, and calculate the w\n",
    "        self.w = np.linalg.pinv(A.T @ A) @ A.T @ self.convert_to_one_hot(self.y, self.number_of_classes)\n",
    "        \n",
    "        \n",
    "\n",
    "        start = timeit.default_timer()\n",
    "        \n",
    "        # Calculate data matrix B of the test set\n",
    "        B = self.rbf_list(self.tX, self.centroids, self.beta)\n",
    "        \n",
    "        stop = timeit.default_timer()\n",
    "        time5 = stop - start\n",
    "        print('Time5: ', time5)\n",
    "\n",
    "        \n",
    "        # Use the calculated weights\n",
    "        self.pred_ty = B @ self.w\n",
    "        \n",
    "        # Find predictions based on the highest value (probability)\n",
    "        self.pred_ty = np.array([np.argmax(x) for x in self.pred_ty])\n",
    "        \n",
    "        # Caclulate accuracy\n",
    "        diff = self.pred_ty - self.ty\n",
    "        \n",
    "\n",
    "        print('Accuracy: ', len(np.where(diff == 0)[0]) / len(diff))\n",
    "        \n",
    "        print('Total time: ', time1+time3+time5)\n",
    "        \n",
    "        return (self.pred_ty)"
   ]
  },
  {
   "cell_type": "markdown",
   "metadata": {},
   "source": [
    "### BEWARE: The functions below run for hours"
   ]
  },
  {
   "cell_type": "code",
   "execution_count": 114,
   "metadata": {},
   "outputs": [
    {
     "name": "stdout",
     "output_type": "stream",
     "text": [
      "K =  200\n",
      "Time1:  1.797020000012708\n",
      "Time3:  8632.910195599994\n",
      "Time5:  1501.066347999993\n",
      "Accuracy:  0.8312\n",
      "Total time:  10135.7735636\n",
      "K =  500\n",
      "Time1:  1.515424700002768\n",
      "Time3:  20489.260198200005\n",
      "Time5:  3409.522173999998\n",
      "Accuracy:  0.8575\n",
      "Total time:  23900.297796900006\n"
     ]
    }
   ],
   "source": [
    "k_values = [200,500]\n",
    "for k in k_values:\n",
    "    print(\"K = \",k)\n",
    "    RBF_CLASSIFIER = RBF(small_x_train.values, small_y_train, small_x_test.values, small_y_test, \"random\", 10, k)\n",
    "\n",
    "    RBF_CLASSIFIER.fit()"
   ]
  },
  {
   "cell_type": "code",
   "execution_count": null,
   "metadata": {},
   "outputs": [],
   "source": [
    "k_values = [20,50]\n",
    "for k in k_values:\n",
    "    print(\"K = \",k)\n",
    "    RBF_CLASSIFIER = RBF(small_x_train.values, small_y_train, small_x_test.values, small_y_test, \"kmeans\", 10, k)\n",
    "\n",
    "    RBF_CLASSIFIER.fit()"
   ]
  },
  {
   "cell_type": "markdown",
   "metadata": {},
   "source": [
    "### Confusion Matrix on test set prediction"
   ]
  },
  {
   "cell_type": "code",
   "execution_count": 224,
   "metadata": {},
   "outputs": [
    {
     "name": "stdout",
     "output_type": "stream",
     "text": [
      "[[775   6  25  98   9  13  34   1  39   0]\n",
      " [  3 918  15  47  10   3   4   0   0   0]\n",
      " [ 33   2 578  17 217  18 113   1  21   0]\n",
      " [ 37  15   6 880  23   8  22   0   9   0]\n",
      " [  0   7 105  74 698   5 103   0   8   0]\n",
      " [  3   0   0   0   0 746   0 167  13  71]\n",
      " [227   1 121  81 151  13 370   0  35   1]\n",
      " [  0   0   0   0   0  88   0 794   2 116]\n",
      " [  2   0  23  13   6  20   8  19 906   3]\n",
      " [  0   0   0   0   0  25   0  48   0 927]]\n"
     ]
    }
   ],
   "source": [
    "print(confusion_matrix(small_y_test, pred))"
   ]
  },
  {
   "cell_type": "markdown",
   "metadata": {},
   "source": [
    "## Παράδειγμα εσφαλμένης κατηγοριοποίησης"
   ]
  },
  {
   "cell_type": "code",
   "execution_count": 247,
   "metadata": {},
   "outputs": [
    {
     "name": "stdout",
     "output_type": "stream",
     "text": [
      "Example of wrong classification:\n",
      "Predicted: = Shirt\n",
      "True value: = Pullover\n"
     ]
    },
    {
     "data": {
      "image/png": "[encoded data removed]",
      "text/plain": [
       "<Figure size 432x288 with 1 Axes>"
      ]
     },
     "metadata": {
      "needs_background": "light"
     },
     "output_type": "display_data"
    }
   ],
   "source": [
    "# Example of wrong classification\n",
    "\n",
    "for i in range(len(pred)):\n",
    "    if(pred[i]!=small_y_test[i]):\n",
    "        c=i\n",
    "        break\n",
    "\n",
    "\n",
    "print(\"Example of wrong classification:\")\n",
    "print(\"Predicted: = \" + fashionmnist[str(pred[c])])\n",
    "print(\"True value: = \" + fashionmnist[str(small_y_test[c])])\n",
    "image = small_x_test.iloc[c]\n",
    "temp = np.array(image)\n",
    "temp = np.reshape(temp, (28,28))\n",
    "# plot the sample\n",
    "fig = plt.figure\n",
    "plt.imshow(temp, cmap='gray')\n",
    "plt.show()"
   ]
  },
  {
   "cell_type": "markdown",
   "metadata": {},
   "source": [
    "## Παράδειγμα σωστής κατηγοριοποίησης"
   ]
  },
  {
   "cell_type": "code",
   "execution_count": 226,
   "metadata": {},
   "outputs": [
    {
     "name": "stdout",
     "output_type": "stream",
     "text": [
      "Example of correct classification:\n",
      "Predicted: = T-shirt/top\n",
      "True value: = T-shirt/top\n"
     ]
    },
    {
     "data": {
      "image/png": "[encoded data removed]",
      "text/plain": [
       "<Figure size 432x288 with 1 Axes>"
      ]
     },
     "metadata": {
      "needs_background": "light"
     },
     "output_type": "display_data"
    }
   ],
   "source": [
    "# Example of correct classification\n",
    "\n",
    "for i in range(len(pred)):\n",
    "    if(pred[i]==small_y_test[i]):\n",
    "        c=i\n",
    "        break\n",
    "\n",
    "print(\"Example of correct classification:\")\n",
    "print(\"Predicted: = \" + fashionmnist[str(pred[c])])\n",
    "print(\"True value: = \" + fashionmnist[str(small_y_test[c])])\n",
    "image = small_x_test.iloc[c]\n",
    "temp = np.array(image)\n",
    "temp = np.reshape(temp, (28,28))\n",
    "# plot the sample\n",
    "fig = plt.figure\n",
    "plt.imshow(temp, cmap='gray')\n",
    "plt.show()"
   ]
  },
  {
   "cell_type": "markdown",
   "metadata": {},
   "source": [
    "# ΠΕΙΡΑΜΑΤΙΣΜΟΙ ΚΑΙ ΣΥΓΚΡΙΣΕΙΣ ΠΑΡΑΜΕΤΡΩΝ"
   ]
  },
  {
   "cell_type": "markdown",
   "metadata": {},
   "source": [
    "## Πειραματισμός σε test set και training set ( συγκρίσεις ακρίβειας ως προς το πλήθος κρυφών νευρώνων k, 1000 samples )"
   ]
  },
  {
   "cell_type": "code",
   "execution_count": 218,
   "metadata": {},
   "outputs": [
    {
     "data": {
      "image/png": "[encoded data removed]",
      "text/plain": [
       "<Figure size 432x288 with 1 Axes>"
      ]
     },
     "metadata": {
      "needs_background": "light"
     },
     "output_type": "display_data"
    }
   ],
   "source": [
    "import matplotlib.pyplot as plt \n",
    "import matplotlib.patches as mpatches\n",
    "  \n",
    "# x axis values \n",
    "x = [5,20,50,100,200,500,700] \n",
    "\n",
    "# corresponding y axis values \n",
    "no1 = [0.35,0.72,0.79,0.82,0.87,0.92,0.97] \n",
    "no2 = [0.38,0.70,0.75,0.79,0.81,0.83,0.82] \n",
    "\n",
    "  \n",
    "# plotting the points  \n",
    "plt.plot(x, no1, color='green', linewidth = 2) \n",
    "plt.plot(x, no2, color='red', linewidth = 2) \n",
    "\n",
    "\n",
    "green = mpatches.Patch(color='green', label='Training set')\n",
    "red = mpatches.Patch(color='red', label='Test set')\n",
    "\n",
    "plt.legend(handles=[green,red])\n",
    "  \n",
    "# setting x and y axis range \n",
    "plt.ylim(0.4,1) \n",
    "plt.xlim(1,700) \n",
    "  \n",
    "# naming the x axis \n",
    "plt.xlabel('Number of centroids-hidden neurons k') \n",
    "# naming the y axis \n",
    "plt.ylabel('Accuracy') \n",
    "  \n",
    "# giving a title to my graph \n",
    "plt.title('Training samples = 1000, β = Dmax/√(2*k), Method = k-means') \n",
    "  \n",
    "# function to show the plot \n",
    "plt.show() "
   ]
  },
  {
   "cell_type": "markdown",
   "metadata": {},
   "source": [
    "## Πειραματισμός σε test set ( συγκρίσεις ακρίβειας ως προς το πλήθος κρυφών νευρώνων k, 60.000 samples )"
   ]
  },
  {
   "cell_type": "code",
   "execution_count": 217,
   "metadata": {
    "scrolled": true
   },
   "outputs": [
    {
     "data": {
      "image/png": "[encoded data removed]",
      "text/plain": [
       "<Figure size 432x288 with 1 Axes>"
      ]
     },
     "metadata": {
      "needs_background": "light"
     },
     "output_type": "display_data"
    }
   ],
   "source": [
    "import matplotlib.pyplot as plt \n",
    "import matplotlib.patches as mpatches\n",
    "  \n",
    "# x axis values \n",
    "x = [5,20,50,100,200,500,700] \n",
    "\n",
    "# corresponding y axis values \n",
    "no1 = [0.51,0.72,0.77,0.81,0.83,0.86,0.86] \n",
    "\n",
    "\n",
    "  \n",
    "# plotting the points  \n",
    "plt.plot(x, no1, color='red', linewidth = 2) \n",
    "\n",
    "  \n",
    "# setting x and y axis range \n",
    "plt.ylim(0.5,0.9) \n",
    "plt.xlim(1,700) \n",
    "  \n",
    "# naming the x axis \n",
    "plt.xlabel('Number of centroids-hidden neurons k') \n",
    "# naming the y axis \n",
    "plt.ylabel('Accuracy on Testset') \n",
    "  \n",
    "# giving a title to my graph \n",
    "plt.title('Training samples = 60000, β = Dmax/√(2*k), Method = k-means') \n",
    "  \n",
    "# function to show the plot \n",
    "plt.show() "
   ]
  },
  {
   "cell_type": "markdown",
   "metadata": {},
   "source": [
    "## Πειραματισμός σε test set ( συγκρίσεις ακρίβειας ως προς το πλήθος training δεδομένων )"
   ]
  },
  {
   "cell_type": "code",
   "execution_count": 216,
   "metadata": {
    "scrolled": true
   },
   "outputs": [
    {
     "data": {
      "image/png": "[encoded data removed]",
      "text/plain": [
       "<Figure size 432x288 with 1 Axes>"
      ]
     },
     "metadata": {
      "needs_background": "light"
     },
     "output_type": "display_data"
    }
   ],
   "source": [
    "\n",
    "labels = ['1000', '10000', '60000']\n",
    "shuffled = [0.81, 0.82, 0.83]\n",
    "\n",
    "x = np.arange(len(labels))  # the label locations\n",
    "width = 0.35  # the width of the bars\n",
    "\n",
    "fig, ax = plt.subplots()\n",
    "rects1 = ax.bar(x - width/2, shuffled, width)\n",
    "\n",
    "# Add some text for labels, title and custom x-axis tick labels, etc.\n",
    "ax.set_ylabel('Accuracy on Test set')\n",
    "ax.set_xlabel('Number of training set samples')\n",
    "ax.set_title('Hidden neurons = 200, β = Dmax/√(2*k), Method = k-means')\n",
    "ax.set_xticks(x)\n",
    "ax.set_xticklabels(labels)\n",
    "\n",
    "\n",
    "\n",
    "\n",
    "def autolabel(rects):\n",
    "    for rect in rects:\n",
    "        height = rect.get_height()\n",
    "        ax.annotate('{}'.format(height),\n",
    "                    xy=(rect.get_x() + rect.get_width() / 2, height),\n",
    "                    xytext=(0, 3),  # 3 points vertical offset\n",
    "                    textcoords=\"offset points\",\n",
    "                    ha='center', va='bottom')\n",
    "\n",
    "\n",
    "autolabel(rects1)\n",
    "\n",
    "fig.tight_layout()\n",
    "\n",
    "plt.show()\n",
    "\n"
   ]
  },
  {
   "cell_type": "markdown",
   "metadata": {},
   "source": [
    "## Πειραματισμός σε test set ( συγκρίσεις ακρίβειας ως προς μέθοδο επιλογής κέντρων (k-means/random) )"
   ]
  },
  {
   "cell_type": "code",
   "execution_count": 215,
   "metadata": {},
   "outputs": [
    {
     "data": {
      "image/png": "[encoded data removed]",
      "text/plain": [
       "<Figure size 432x288 with 1 Axes>"
      ]
     },
     "metadata": {
      "needs_background": "light"
     },
     "output_type": "display_data"
    }
   ],
   "source": [
    "import matplotlib.pyplot as plt \n",
    "import matplotlib.patches as mpatches\n",
    "  \n",
    "# x axis values \n",
    "x = [20,50,100,200] \n",
    "\n",
    "# corresponding y axis values \n",
    "no1 = [0.70,0.75,0.80,0.81] \n",
    "no2 = [0.68,0.74,0.79,0.805] \n",
    "\n",
    "  \n",
    "# plotting the points  \n",
    "plt.plot(x, no1, color='purple', linewidth = 2) \n",
    "plt.plot(x, no2, color='grey', linewidth = 2) \n",
    "\n",
    "\n",
    "purple = mpatches.Patch(color='purple', label='K-means clustering')\n",
    "grey = mpatches.Patch(color='grey', label='Random centroids')\n",
    "\n",
    "plt.legend(handles=[purple,grey])\n",
    "  \n",
    "# setting x and y axis range \n",
    "plt.ylim(0.65,0.85) \n",
    "plt.xlim(20,200) \n",
    "  \n",
    "# naming the x axis \n",
    "plt.xlabel('Number of centroids-hidden neurons k') \n",
    "# naming the y axis \n",
    "plt.ylabel('Accuracy on Test set') \n",
    "  \n",
    "# giving a title to my graph \n",
    "plt.title('Training samples = 1000, β = Dmax/√(2*k)') \n",
    "  \n",
    "# function to show the plot \n",
    "plt.show() "
   ]
  },
  {
   "cell_type": "markdown",
   "metadata": {},
   "source": [
    "## Πειραματισμός σε test set ( συγκρίσεις ακρίβειας ως προς μέθοδο επιλογής β )"
   ]
  },
  {
   "cell_type": "code",
   "execution_count": 230,
   "metadata": {},
   "outputs": [
    {
     "data": {
      "image/png": "[encoded data removed]",
      "text/plain": [
       "<Figure size 432x288 with 1 Axes>"
      ]
     },
     "metadata": {
      "needs_background": "light"
     },
     "output_type": "display_data"
    }
   ],
   "source": [
    "import matplotlib.pyplot as plt \n",
    "import matplotlib.patches as mpatches\n",
    "  \n",
    "# x axis values \n",
    "x = [20,50,100,200,500] \n",
    "\n",
    "# corresponding y axis values \n",
    "no1 = [0.71,0.75,0.80,0.83,0.857] \n",
    "no2 = [0.72,0.77,0.81,0.84,0.86] \n",
    "\n",
    "  \n",
    "# plotting the points  \n",
    "plt.plot(x, no1, color='orange', linewidth = 2) \n",
    "plt.plot(x, no2, color='brown', linewidth = 2) \n",
    "\n",
    "\n",
    "orange = mpatches.Patch(color='orange', label='β = Dmax/√(2*k)')\n",
    "brown = mpatches.Patch(color='brown', label='β = std^2')\n",
    "\n",
    "plt.legend(handles=[brown,orange])\n",
    "  \n",
    "# setting x and y axis range \n",
    "plt.ylim(0.7,0.9) \n",
    "plt.xlim(20,500) \n",
    "  \n",
    "# naming the x axis \n",
    "plt.xlabel('Number of centroids-hidden neurons k') \n",
    "# naming the y axis \n",
    "plt.ylabel('Accuracy on Test set') \n",
    "  \n",
    "# giving a title to my graph \n",
    "plt.title('Training samples = 60000, Method = random centers\\n\\n*Dmax = maximum distance between two centroids\\n*std = Standard Deviation') \n",
    "  \n",
    "# function to show the plot \n",
    "plt.show() "
   ]
  }
 ],
 "metadata": {
  "kernelspec": {
   "display_name": "Python 3",
   "language": "python",
   "name": "python3"
  },
  "language_info": {
   "codemirror_mode": {
    "name": "ipython",
    "version": 3
   },
   "file_extension": ".py",
   "mimetype": "text/x-python",
   "name": "python",
   "nbconvert_exporter": "python",
   "pygments_lexer": "ipython3",
   "version": "3.8.3"
  }
 },
 "nbformat": 4,
 "nbformat_minor": 4
}
