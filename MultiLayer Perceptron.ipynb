{
 "cells": [
  {
   "cell_type": "markdown",
   "metadata": {},
   "source": [
    "# To run this successfully, run every cell from top to bottom\n",
    "\n",
    "### Note: Every cell has already been run by me, and results are shown, so there is no need to actually run everything."
   ]
  },
  {
   "cell_type": "code",
   "execution_count": 776,
   "metadata": {},
   "outputs": [],
   "source": [
    "# For the purpose of this project, I used a dataset I found in Kaggle, called \"Fashion-MNIST\" which is a slight\n",
    "# variation to the commonly known MNIST dataset. I decided to use the \"Fashion-MNIST\" dataset just to differ from \n",
    "# the others hehe."
   ]
  },
  {
   "cell_type": "code",
   "execution_count": 777,
   "metadata": {},
   "outputs": [],
   "source": [
    "# Here we import all the need libraries\n",
    "\n",
    "import pandas as pd\n",
    "import numpy as np\n",
    "import heapq\n",
    "import timeit\n",
    "\n",
    "from sklearn.metrics.pairwise import euclidean_distances\n",
    "from sklearn.metrics.pairwise import manhattan_distances\n",
    "from sklearn.metrics.pairwise import cosine_similarity\n",
    "\n",
    "from sklearn.metrics import classification_report"
   ]
  },
  {
   "cell_type": "code",
   "execution_count": 778,
   "metadata": {},
   "outputs": [],
   "source": [
    "# Load the datasets from the FashionMNIST folder.\n",
    "\n",
    "data_train = pd.read_csv(\"./FashionMNIST/fashion-mnist_train.csv\")\n",
    "data_test = pd.read_csv(\"./FashionMNIST/fashion-mnist_test.csv\")"
   ]
  },
  {
   "cell_type": "code",
   "execution_count": 779,
   "metadata": {},
   "outputs": [],
   "source": [
    "# Dictionary to indicate which class number corresponds to which type of clothing\n",
    "\n",
    "fashionmnist = {\n",
    "    \"0\": \"T-shirt/top\",\n",
    "    \"1\": \"Trouser\",\n",
    "    \"2\": \"Pullover\",\n",
    "    \"3\": \"Dress\",\n",
    "    \"4\": \"Coat\",\n",
    "    \"5\": \"Sandal\",\n",
    "    \"6\": \"Shirt\",\n",
    "    \"7\": \"Sneaker\",\n",
    "    \"8\": \"Bag\",\n",
    "    \"9\": \"Ankle boot\",\n",
    "}"
   ]
  },
  {
   "cell_type": "code",
   "execution_count": 780,
   "metadata": {},
   "outputs": [
    {
     "data": {
      "text/html": [
       "<div>\n",
       "<style scoped>\n",
       "    .dataframe tbody tr th:only-of-type {\n",
       "        vertical-align: middle;\n",
       "    }\n",
       "\n",
       "    .dataframe tbody tr th {\n",
       "        vertical-align: top;\n",
       "    }\n",
       "\n",
       "    .dataframe thead th {\n",
       "        text-align: right;\n",
       "    }\n",
       "</style>\n",
       "<table border=\"1\" class=\"dataframe\">\n",
       "  <thead>\n",
       "    <tr style=\"text-align: right;\">\n",
       "      <th></th>\n",
       "      <th>label</th>\n",
       "      <th>pixel1</th>\n",
       "      <th>pixel2</th>\n",
       "      <th>pixel3</th>\n",
       "      <th>pixel4</th>\n",
       "      <th>pixel5</th>\n",
       "      <th>pixel6</th>\n",
       "      <th>pixel7</th>\n",
       "      <th>pixel8</th>\n",
       "      <th>pixel9</th>\n",
       "      <th>...</th>\n",
       "      <th>pixel775</th>\n",
       "      <th>pixel776</th>\n",
       "      <th>pixel777</th>\n",
       "      <th>pixel778</th>\n",
       "      <th>pixel779</th>\n",
       "      <th>pixel780</th>\n",
       "      <th>pixel781</th>\n",
       "      <th>pixel782</th>\n",
       "      <th>pixel783</th>\n",
       "      <th>pixel784</th>\n",
       "    </tr>\n",
       "  </thead>\n",
       "  <tbody>\n",
       "    <tr>\n",
       "      <th>0</th>\n",
       "      <td>0</td>\n",
       "      <td>0</td>\n",
       "      <td>0</td>\n",
       "      <td>0</td>\n",
       "      <td>0</td>\n",
       "      <td>0</td>\n",
       "      <td>0</td>\n",
       "      <td>0</td>\n",
       "      <td>9</td>\n",
       "      <td>8</td>\n",
       "      <td>...</td>\n",
       "      <td>103</td>\n",
       "      <td>87</td>\n",
       "      <td>56</td>\n",
       "      <td>0</td>\n",
       "      <td>0</td>\n",
       "      <td>0</td>\n",
       "      <td>0</td>\n",
       "      <td>0</td>\n",
       "      <td>0</td>\n",
       "      <td>0</td>\n",
       "    </tr>\n",
       "    <tr>\n",
       "      <th>1</th>\n",
       "      <td>1</td>\n",
       "      <td>0</td>\n",
       "      <td>0</td>\n",
       "      <td>0</td>\n",
       "      <td>0</td>\n",
       "      <td>0</td>\n",
       "      <td>0</td>\n",
       "      <td>0</td>\n",
       "      <td>0</td>\n",
       "      <td>0</td>\n",
       "      <td>...</td>\n",
       "      <td>34</td>\n",
       "      <td>0</td>\n",
       "      <td>0</td>\n",
       "      <td>0</td>\n",
       "      <td>0</td>\n",
       "      <td>0</td>\n",
       "      <td>0</td>\n",
       "      <td>0</td>\n",
       "      <td>0</td>\n",
       "      <td>0</td>\n",
       "    </tr>\n",
       "    <tr>\n",
       "      <th>2</th>\n",
       "      <td>2</td>\n",
       "      <td>0</td>\n",
       "      <td>0</td>\n",
       "      <td>0</td>\n",
       "      <td>0</td>\n",
       "      <td>0</td>\n",
       "      <td>0</td>\n",
       "      <td>14</td>\n",
       "      <td>53</td>\n",
       "      <td>99</td>\n",
       "      <td>...</td>\n",
       "      <td>0</td>\n",
       "      <td>0</td>\n",
       "      <td>0</td>\n",
       "      <td>0</td>\n",
       "      <td>63</td>\n",
       "      <td>53</td>\n",
       "      <td>31</td>\n",
       "      <td>0</td>\n",
       "      <td>0</td>\n",
       "      <td>0</td>\n",
       "    </tr>\n",
       "    <tr>\n",
       "      <th>3</th>\n",
       "      <td>2</td>\n",
       "      <td>0</td>\n",
       "      <td>0</td>\n",
       "      <td>0</td>\n",
       "      <td>0</td>\n",
       "      <td>0</td>\n",
       "      <td>0</td>\n",
       "      <td>0</td>\n",
       "      <td>0</td>\n",
       "      <td>0</td>\n",
       "      <td>...</td>\n",
       "      <td>137</td>\n",
       "      <td>126</td>\n",
       "      <td>140</td>\n",
       "      <td>0</td>\n",
       "      <td>133</td>\n",
       "      <td>224</td>\n",
       "      <td>222</td>\n",
       "      <td>56</td>\n",
       "      <td>0</td>\n",
       "      <td>0</td>\n",
       "    </tr>\n",
       "    <tr>\n",
       "      <th>4</th>\n",
       "      <td>3</td>\n",
       "      <td>0</td>\n",
       "      <td>0</td>\n",
       "      <td>0</td>\n",
       "      <td>0</td>\n",
       "      <td>0</td>\n",
       "      <td>0</td>\n",
       "      <td>0</td>\n",
       "      <td>0</td>\n",
       "      <td>0</td>\n",
       "      <td>...</td>\n",
       "      <td>0</td>\n",
       "      <td>0</td>\n",
       "      <td>0</td>\n",
       "      <td>0</td>\n",
       "      <td>0</td>\n",
       "      <td>0</td>\n",
       "      <td>0</td>\n",
       "      <td>0</td>\n",
       "      <td>0</td>\n",
       "      <td>0</td>\n",
       "    </tr>\n",
       "  </tbody>\n",
       "</table>\n",
       "<p>5 rows × 785 columns</p>\n",
       "</div>"
      ],
      "text/plain": [
       "   label  pixel1  pixel2  pixel3  pixel4  pixel5  pixel6  pixel7  pixel8  \\\n",
       "0      0       0       0       0       0       0       0       0       9   \n",
       "1      1       0       0       0       0       0       0       0       0   \n",
       "2      2       0       0       0       0       0       0      14      53   \n",
       "3      2       0       0       0       0       0       0       0       0   \n",
       "4      3       0       0       0       0       0       0       0       0   \n",
       "\n",
       "   pixel9  ...  pixel775  pixel776  pixel777  pixel778  pixel779  pixel780  \\\n",
       "0       8  ...       103        87        56         0         0         0   \n",
       "1       0  ...        34         0         0         0         0         0   \n",
       "2      99  ...         0         0         0         0        63        53   \n",
       "3       0  ...       137       126       140         0       133       224   \n",
       "4       0  ...         0         0         0         0         0         0   \n",
       "\n",
       "   pixel781  pixel782  pixel783  pixel784  \n",
       "0         0         0         0         0  \n",
       "1         0         0         0         0  \n",
       "2        31         0         0         0  \n",
       "3       222        56         0         0  \n",
       "4         0         0         0         0  \n",
       "\n",
       "[5 rows x 785 columns]"
      ]
     },
     "execution_count": 780,
     "metadata": {},
     "output_type": "execute_result"
    }
   ],
   "source": [
    "# Representation of how the dataset looks like.\n",
    "\n",
    "data_test.head()"
   ]
  },
  {
   "cell_type": "code",
   "execution_count": 781,
   "metadata": {},
   "outputs": [],
   "source": [
    "# Split the train and test dataframes into features(X) and labels(Y)\n",
    "\n",
    "X_train = data_train.drop([\"label\"],axis=1)\n",
    "Y_train = data_train[[\"label\"]].values.ravel()\n",
    "X_test = data_test.drop([\"label\"],axis=1)\n",
    "Y_test = data_test[[\"label\"]].values.ravel()\n",
    "\n",
    "# I used .ravel() due to some inconsistences with the dataset (..Thanks StackOverflow :D)\n",
    "\n",
    "# Also, since all features range from 0 to 255, we don't need to normalize them."
   ]
  },
  {
   "cell_type": "code",
   "execution_count": 782,
   "metadata": {},
   "outputs": [
    {
     "data": {
      "text/plain": [
       "((60000, 784), (60000,), (10000, 784), (10000,))"
      ]
     },
     "execution_count": 782,
     "metadata": {},
     "output_type": "execute_result"
    }
   ],
   "source": [
    "# We can look at how many rows and columns each dataset has\n",
    "\n",
    "X_train.shape, Y_train.shape, X_test.shape, Y_test.shape"
   ]
  },
  {
   "cell_type": "code",
   "execution_count": 783,
   "metadata": {},
   "outputs": [],
   "source": [
    "# Function to create different kind of sizes for training datasets (For testing purposes)\n",
    "\n",
    "def create_dataset(size):\n",
    "    \"\"\"makes a dataset of size \"size\", and returns that datasets images and targets\n",
    "    This is used to make the dataset that will be stored by a model and used in \n",
    "    experimenting with different stored dataset sizes\n",
    "    \"\"\"\n",
    "    small_x_train = X_train[:size]\n",
    "    small_y_train = Y_train[:size]\n",
    "    \n",
    "    return small_x_train, small_y_train\n"
   ]
  },
  {
   "cell_type": "code",
   "execution_count": 784,
   "metadata": {},
   "outputs": [],
   "source": [
    "# Function to create different kind of sizes for testing datasets (For testing purposes)\n",
    "\n",
    "def create_test_dataset(size):\n",
    "    \"\"\"makes a dataset of size \"size\", and returns that datasets images and targets\n",
    "    This is used to make the dataset that will be tested by a model and used in \n",
    "    experimenting with different test dataset sizes\n",
    "    \"\"\"\n",
    "    small_x_test = X_test[:size]\n",
    "    small_y_test = Y_test[:size]\n",
    "    \n",
    "    return small_x_test, small_y_test"
   ]
  },
  {
   "cell_type": "code",
   "execution_count": 785,
   "metadata": {},
   "outputs": [
    {
     "data": {
      "text/plain": [
       "((60000, 784), (60000,))"
      ]
     },
     "execution_count": 785,
     "metadata": {},
     "output_type": "execute_result"
    }
   ],
   "source": [
    "# Smaller train set of 1000 rows (I put it 60000 for the final project)\n",
    "\n",
    "small_x_train, small_y_train = create_dataset(60000)\n",
    "\n",
    "small_x_train.shape, small_y_train.shape"
   ]
  },
  {
   "cell_type": "code",
   "execution_count": 786,
   "metadata": {},
   "outputs": [
    {
     "data": {
      "text/plain": [
       "((10000, 784), (10000,))"
      ]
     },
     "execution_count": 786,
     "metadata": {},
     "output_type": "execute_result"
    }
   ],
   "source": [
    "# Smaller test set of 1000 rows (I put it 10000 for the final project)\n",
    "\n",
    "small_x_test, small_y_test = create_test_dataset(10000)\n",
    "\n",
    "small_x_test.shape, small_y_test.shape"
   ]
  },
  {
   "cell_type": "code",
   "execution_count": 787,
   "metadata": {},
   "outputs": [],
   "source": [
    "# Import some important libraries and features\n",
    "\n",
    "from sklearn.neural_network import MLPClassifier\n",
    "from sklearn.preprocessing import OneHotEncoder\n",
    "import matplotlib.pyplot as plt\n",
    "from sklearn.metrics import accuracy_score\n",
    "from sklearn.metrics import confusion_matrix"
   ]
  },
  {
   "cell_type": "markdown",
   "metadata": {},
   "source": [
    "## READY MLP:\n",
    "\n",
    "I used the **sklearn**-implemented **Multilayer Perceptron** Classifier like this:\n",
    "\n",
    "mlp = MLPClassifier(hidden_layer_sizes = (**20**), activation = '**logistic**', batch_size=**250**, \n",
    "                    learning_rate_init = **0.001**, random_state = 1)\n",
    "\n"
   ]
  },
  {
   "cell_type": "code",
   "execution_count": 792,
   "metadata": {},
   "outputs": [
    {
     "name": "stdout",
     "output_type": "stream",
     "text": [
      "              precision    recall  f1-score   support\n",
      "\n",
      "           0       0.83      0.82      0.82      1000\n",
      "           1       0.98      0.97      0.97      1000\n",
      "           2       0.80      0.81      0.81      1000\n",
      "           3       0.87      0.90      0.88      1000\n",
      "           4       0.81      0.81      0.81      1000\n",
      "           5       0.96      0.93      0.95      1000\n",
      "           6       0.70      0.67      0.68      1000\n",
      "           7       0.91      0.94      0.93      1000\n",
      "           8       0.96      0.96      0.96      1000\n",
      "           9       0.95      0.95      0.95      1000\n",
      "\n",
      "    accuracy                           0.88     10000\n",
      "   macro avg       0.88      0.88      0.88     10000\n",
      "weighted avg       0.88      0.88      0.88     10000\n",
      "\n",
      "Time:  197.48854950000532\n"
     ]
    }
   ],
   "source": [
    "# Initialize the mlp given from the sklearn library\n",
    "# Predictions on the test set (88%)\n",
    "\n",
    "start = timeit.default_timer()\n",
    "mlp = MLPClassifier(hidden_layer_sizes = (100), activation = 'logistic', batch_size=750, \n",
    "                    learning_rate_init = 0.0002, random_state = 1, early_stopping=True)\n",
    "\n",
    "mlp.fit(small_x_train,small_y_train)\n",
    "\n",
    "pred = mlp.predict(small_x_test)\n",
    "\n",
    "print(classification_report(small_y_test, pred))\n",
    "stop = timeit.default_timer()\n",
    "\n",
    "    \n",
    "print('Time: ', stop - start)\n",
    "\n"
   ]
  },
  {
   "cell_type": "markdown",
   "metadata": {},
   "source": [
    "### Confusion Matrix on test set prediction"
   ]
  },
  {
   "cell_type": "code",
   "execution_count": 793,
   "metadata": {},
   "outputs": [
    {
     "name": "stdout",
     "output_type": "stream",
     "text": [
      "[[819   1  15  38   2   0 114   0  11   0]\n",
      " [  0 973   2  14   4   2   5   0   0   0]\n",
      " [  9   1 811  14  86   0  74   0   5   0]\n",
      " [ 24  18  13 902  26   1  10   0   6   0]\n",
      " [  1   0  84  39 807   0  67   0   2   0]\n",
      " [  1   0   0   1   0 934   1  42   3  18]\n",
      " [134   4  78  33  69   0 670   0  12   0]\n",
      " [  0   0   0   0   0  24   0 941   1  34]\n",
      " [  4   0   6   1   4   3  16   4 961   1]\n",
      " [  0   0   0   0   0   6   0  43   1 950]]\n"
     ]
    }
   ],
   "source": [
    "print(confusion_matrix(small_y_test, pred))"
   ]
  },
  {
   "cell_type": "markdown",
   "metadata": {},
   "source": [
    "### Loss curve with respect to the epochs (test set)"
   ]
  },
  {
   "cell_type": "code",
   "execution_count": 794,
   "metadata": {},
   "outputs": [
    {
     "data": {
      "text/plain": [
       "[<matplotlib.lines.Line2D at 0x1261aa6f310>]"
      ]
     },
     "execution_count": 794,
     "metadata": {},
     "output_type": "execute_result"
    },
    {
     "data": {
      "image/png": "[encoded data removed]",
      "text/plain": [
       "<Figure size 432x288 with 1 Axes>"
      ]
     },
     "metadata": {
      "needs_background": "light"
     },
     "output_type": "display_data"
    }
   ],
   "source": [
    "plt.plot(mlp.loss_curve_)"
   ]
  },
  {
   "cell_type": "markdown",
   "metadata": {},
   "source": [
    "### Accuracy curve with respect to the epochs (test set)"
   ]
  },
  {
   "cell_type": "code",
   "execution_count": 795,
   "metadata": {},
   "outputs": [
    {
     "data": {
      "text/plain": [
       "[<matplotlib.lines.Line2D at 0x1261bce15b0>]"
      ]
     },
     "execution_count": 795,
     "metadata": {},
     "output_type": "execute_result"
    },
    {
     "data": {
      "image/png": "[encoded data removed]",
      "text/plain": [
       "<Figure size 432x288 with 1 Axes>"
      ]
     },
     "metadata": {
      "needs_background": "light"
     },
     "output_type": "display_data"
    }
   ],
   "source": [
    "plt.plot(mlp.validation_scores_)"
   ]
  },
  {
   "cell_type": "code",
   "execution_count": 803,
   "metadata": {},
   "outputs": [
    {
     "name": "stdout",
     "output_type": "stream",
     "text": [
      "              precision    recall  f1-score   support\n",
      "\n",
      "           0       0.86      0.85      0.85      6000\n",
      "           1       0.99      0.97      0.98      6000\n",
      "           2       0.80      0.84      0.82      6000\n",
      "           3       0.88      0.93      0.90      6000\n",
      "           4       0.82      0.80      0.81      6000\n",
      "           5       0.99      0.98      0.98      6000\n",
      "           6       0.75      0.72      0.74      6000\n",
      "           7       0.96      0.97      0.96      6000\n",
      "           8       0.98      0.97      0.98      6000\n",
      "           9       0.98      0.97      0.97      6000\n",
      "\n",
      "    accuracy                           0.90     60000\n",
      "   macro avg       0.90      0.90      0.90     60000\n",
      "weighted avg       0.90      0.90      0.90     60000\n",
      "\n",
      "Time:  195.0973457999935\n"
     ]
    }
   ],
   "source": [
    "# Initialize the mlp given from the sklearn library\n",
    "# Predictions on the training set (91%), it shows 90% because i needed to enable early_stopping to plot the accuracy curve.\n",
    "\n",
    "start = timeit.default_timer()\n",
    "mlp = MLPClassifier(hidden_layer_sizes = (100), activation = 'logistic', batch_size=750, \n",
    "                    learning_rate_init = 0.0002, random_state = 1, early_stopping=True)\n",
    "\n",
    "mlp.fit(small_x_train,small_y_train)\n",
    "\n",
    "pred = mlp.predict(small_x_train)\n",
    "\n",
    "print(classification_report(small_y_train, pred))\n",
    "stop = timeit.default_timer()\n",
    "\n",
    "    \n",
    "print('Time: ', stop - start)\n"
   ]
  },
  {
   "cell_type": "markdown",
   "metadata": {},
   "source": [
    "### Confusion Matrix on training set prediction"
   ]
  },
  {
   "cell_type": "code",
   "execution_count": 805,
   "metadata": {},
   "outputs": [
    {
     "name": "stdout",
     "output_type": "stream",
     "text": [
      "[[5079   17  104  206   21    4  529    0   38    2]\n",
      " [  10 5829   34   94   10    0   20    0    3    0]\n",
      " [  56    5 5041   68  474    2  341    0   13    0]\n",
      " [ 122   36   42 5552  144    0   92    0   12    0]\n",
      " [   7    5  562  228 4784    0  396    0   18    0]\n",
      " [   1    1    0    1    0 5861    1   82   10   43]\n",
      " [ 645   15  490  133  355    1 4321    1   39    0]\n",
      " [   0    0    0    0    0   47    0 5847    8   98]\n",
      " [  12    3   32   20   16    6   52   13 5845    1]\n",
      " [   2    0    0    0    0   28    0  177    0 5793]]\n"
     ]
    }
   ],
   "source": [
    "print(confusion_matrix(small_y_train, pred))"
   ]
  },
  {
   "cell_type": "markdown",
   "metadata": {},
   "source": [
    "### Loss curve with respect to the epochs (test set)"
   ]
  },
  {
   "cell_type": "code",
   "execution_count": 807,
   "metadata": {},
   "outputs": [
    {
     "data": {
      "text/plain": [
       "[<matplotlib.lines.Line2D at 0x1261d8f66a0>]"
      ]
     },
     "execution_count": 807,
     "metadata": {},
     "output_type": "execute_result"
    },
    {
     "data": {
      "image/png": "[encoded data removed]",
      "text/plain": [
       "<Figure size 432x288 with 1 Axes>"
      ]
     },
     "metadata": {
      "needs_background": "light"
     },
     "output_type": "display_data"
    }
   ],
   "source": [
    "plt.plot(mlp.loss_curve_)"
   ]
  },
  {
   "cell_type": "markdown",
   "metadata": {},
   "source": [
    "### Accuracy curve with respect to the epochs (test set)"
   ]
  },
  {
   "cell_type": "code",
   "execution_count": 808,
   "metadata": {},
   "outputs": [
    {
     "data": {
      "text/plain": [
       "[<matplotlib.lines.Line2D at 0x1261d9035b0>]"
      ]
     },
     "execution_count": 808,
     "metadata": {},
     "output_type": "execute_result"
    },
    {
     "data": {
      "image/png": "[encoded data removed]",
      "text/plain": [
       "<Figure size 432x288 with 1 Axes>"
      ]
     },
     "metadata": {
      "needs_background": "light"
     },
     "output_type": "display_data"
    }
   ],
   "source": [
    "plt.plot(mlp.validation_scores_)"
   ]
  },
  {
   "cell_type": "markdown",
   "metadata": {},
   "source": [
    "## Παράδειγμα εσφαλμένης κατηγοριοποίησης"
   ]
  },
  {
   "cell_type": "code",
   "execution_count": 812,
   "metadata": {},
   "outputs": [
    {
     "name": "stdout",
     "output_type": "stream",
     "text": [
      "Example of wrong classification:\n",
      "Predicted: = T-shirt/top\n",
      "True value: = Shirt\n"
     ]
    },
    {
     "data": {
      "image/png": "[encoded data removed]",
      "text/plain": [
       "<Figure size 432x288 with 1 Axes>"
      ]
     },
     "metadata": {
      "needs_background": "light"
     },
     "output_type": "display_data"
    }
   ],
   "source": [
    "# Example of wrong classification\n",
    "\n",
    "for i in range(len(pred)):\n",
    "    if(pred[i]!=small_y_train[i]):\n",
    "        c=i\n",
    "\n",
    "print(\"Example of wrong classification:\")\n",
    "print(\"Predicted: = \" + fashionmnist[str(pred[c])])\n",
    "print(\"True value: = \" + fashionmnist[str(small_y_train[c])])\n",
    "image = small_x_train.iloc[c]\n",
    "temp = np.array(image)\n",
    "temp = np.reshape(temp, (28,28))\n",
    "# plot the sample\n",
    "fig = plt.figure\n",
    "plt.imshow(temp, cmap='gray')\n",
    "plt.show()"
   ]
  },
  {
   "cell_type": "markdown",
   "metadata": {},
   "source": [
    "## Παράδειγμα σωστής κατηγοριοποίησης"
   ]
  },
  {
   "cell_type": "code",
   "execution_count": 813,
   "metadata": {},
   "outputs": [
    {
     "name": "stdout",
     "output_type": "stream",
     "text": [
      "Example of correct classification:\n",
      "Predicted: = Sneaker\n",
      "True value: = Sneaker\n"
     ]
    },
    {
     "data": {
      "image/png": "[encoded data removed]",
      "text/plain": [
       "<Figure size 432x288 with 1 Axes>"
      ]
     },
     "metadata": {
      "needs_background": "light"
     },
     "output_type": "display_data"
    }
   ],
   "source": [
    "# Example of correct classification\n",
    "\n",
    "for i in range(len(pred)):\n",
    "    if(pred[i]==small_y_train[i]):\n",
    "        c=i\n",
    "\n",
    "print(\"Example of correct classification:\")\n",
    "print(\"Predicted: = \" + fashionmnist[str(pred[c])])\n",
    "print(\"True value: = \" + fashionmnist[str(small_y_train[c])])\n",
    "image = small_x_train.iloc[c]\n",
    "temp = np.array(image)\n",
    "temp = np.reshape(temp, (28,28))\n",
    "# plot the sample\n",
    "fig = plt.figure\n",
    "plt.imshow(temp, cmap='gray')\n",
    "plt.show()"
   ]
  },
  {
   "cell_type": "markdown",
   "metadata": {},
   "source": [
    "# ΠΕΙΡΑΜΑΤΙΣΜΟΙ ΚΑΙ ΣΥΓΚΡΙΣΕΙΣ ΠΑΡΑΜΕΤΡΩΝ"
   ]
  },
  {
   "cell_type": "markdown",
   "metadata": {},
   "source": [
    "## Πειραματισμός με διαφορετικα learning rates ( συγκρίσεις ακρίβειας ως προς πλήθος νευρώνων )"
   ]
  },
  {
   "cell_type": "code",
   "execution_count": 814,
   "metadata": {},
   "outputs": [
    {
     "data": {
      "image/png": "[encoded data removed]",
      "text/plain": [
       "<Figure size 432x288 with 1 Axes>"
      ]
     },
     "metadata": {
      "needs_background": "light"
     },
     "output_type": "display_data"
    }
   ],
   "source": [
    "import matplotlib.pyplot as plt \n",
    "import matplotlib.patches as mpatches\n",
    "  \n",
    "# x axis values \n",
    "x = [10,30,50,75,100,150,200] \n",
    "\n",
    "# corresponding y axis values \n",
    "no1 = [0.71,0.81,0.82,0.82,0.83,0.83,0.83] \n",
    "no2 = [0.54,0.74,0.78,0.76,0.78,0.78,0.76] \n",
    "no3 = [0.28,0.34,0.36,0.57,0.47,0.54,0.4]\n",
    "  \n",
    "# plotting the points  \n",
    "plt.plot(x, no1, color='red', linewidth = 2) \n",
    "plt.plot(x, no2, color='blue', linewidth = 2) \n",
    "plt.plot(x, no3, color='green', linewidth = 2) \n",
    "\n",
    "red = mpatches.Patch(color='red', label='learning rate: 0.0001')\n",
    "blue = mpatches.Patch(color='blue', label='learning rate: 0.001')\n",
    "green = mpatches.Patch(color='green', label='learning rate: 0.01')\n",
    "plt.legend(handles=[red,blue,green])\n",
    "  \n",
    "# setting x and y axis range \n",
    "plt.ylim(0,1) \n",
    "plt.xlim(1,200) \n",
    "  \n",
    "# naming the x axis \n",
    "plt.xlabel('Number of neurons in hidden layer') \n",
    "# naming the y axis \n",
    "plt.ylabel('Accuracy on Test set') \n",
    "  \n",
    "# giving a title to my graph \n",
    "plt.title('sigmoid, batch_size=100, training_set=3000 examples') \n",
    "  \n",
    "# function to show the plot \n",
    "plt.show() "
   ]
  },
  {
   "cell_type": "markdown",
   "metadata": {},
   "source": [
    "## Πειραματισμός με διαφορετικα learning rates ( συγκρίσεις ακρίβειας ως προς πλήθος training δεδομενων )"
   ]
  },
  {
   "cell_type": "code",
   "execution_count": 815,
   "metadata": {},
   "outputs": [
    {
     "data": {
      "image/png": "[encoded data removed]",
      "text/plain": [
       "<Figure size 432x288 with 1 Axes>"
      ]
     },
     "metadata": {
      "needs_background": "light"
     },
     "output_type": "display_data"
    }
   ],
   "source": [
    "import matplotlib.pyplot as plt \n",
    "import matplotlib.patches as mpatches\n",
    "  \n",
    "# x axis values \n",
    "x = [1000,3000,10000,60000] \n",
    "\n",
    "# corresponding y axis values \n",
    "no1 = [0.73,0.78,0.83,0.88] \n",
    "no2 = [0.81,0.83,0.83,0.84] \n",
    "no3 = [0.69,0.70,0.70,0.71]\n",
    "  \n",
    "# plotting the points  \n",
    "plt.plot(x, no1, color='red', linewidth = 2) \n",
    "plt.plot(x, no2, color='blue', linewidth = 2) \n",
    "plt.plot(x, no3, color='green', linewidth = 2) \n",
    "\n",
    "red = mpatches.Patch(color='red', label='learning rate: 0.0001')\n",
    "blue = mpatches.Patch(color='blue', label='learning rate: 0.001')\n",
    "green = mpatches.Patch(color='green', label='learning rate: 0.01')\n",
    "plt.legend(handles=[red,blue,green])\n",
    "  \n",
    "# setting x and y axis range \n",
    "plt.ylim(0,1) \n",
    "plt.xlim(1,60000) \n",
    "  \n",
    "# naming the x axis \n",
    "plt.xlabel('Number of training set samples') \n",
    "# naming the y axis \n",
    "plt.ylabel('Accuracy on Test set') \n",
    "  \n",
    "# giving a title to my graph \n",
    "plt.title('sigmoid, no_of_neurons=100, batch_size=1000') \n",
    "  \n",
    "# function to show the plot \n",
    "plt.show() "
   ]
  },
  {
   "cell_type": "markdown",
   "metadata": {},
   "source": [
    "## Πειραματισμός με διαφορετικές activation functions ( συγκρίσεις ακρίβειας ως προς πλήθος νευρώνων )"
   ]
  },
  {
   "cell_type": "code",
   "execution_count": 816,
   "metadata": {},
   "outputs": [
    {
     "data": {
      "image/png": "[encoded data removed]",
      "text/plain": [
       "<Figure size 432x288 with 1 Axes>"
      ]
     },
     "metadata": {
      "needs_background": "light"
     },
     "output_type": "display_data"
    }
   ],
   "source": [
    "import matplotlib.pyplot as plt \n",
    "import matplotlib.patches as mpatches\n",
    "  \n",
    "# x axis values \n",
    "x = [10,30,50,75,100,150,200] \n",
    "# corresponding y axis values \n",
    "no1 = [0.71,0.81,0.82,0.82,0.83,0.83,0.83] \n",
    "no2 = [0.70,0.78,0.78,0.78,0.80,0.81,0.81] \n",
    "no3 = [0.39,0.72,0.72,0.75,0.75,0.76,0.76]\n",
    "  \n",
    "# plotting the points  \n",
    "plt.plot(x, no1, color='red', linewidth = 2) \n",
    "plt.plot(x, no2, color='blue', linewidth = 2) \n",
    "plt.plot(x, no3, color='green', linewidth = 2) \n",
    "\n",
    "red = mpatches.Patch(color='red', label='sigmoid')\n",
    "blue = mpatches.Patch(color='blue', label='tanh')\n",
    "green = mpatches.Patch(color='green', label='ralu')\n",
    "plt.legend(handles=[red,blue,green])\n",
    "  \n",
    "# setting x and y axis range \n",
    "plt.ylim(0,1) \n",
    "plt.xlim(1,200) \n",
    "  \n",
    "# naming the x axis \n",
    "plt.xlabel('Number of neurons in hidden layer') \n",
    "# naming the y axis \n",
    "plt.ylabel('Accuracy on Test set') \n",
    "  \n",
    "# giving a title to my graph \n",
    "plt.title('learning_rate=0.0001, batch_size=100, training_set=3000 examples') \n",
    "  \n",
    "# function to show the plot \n",
    "plt.show() "
   ]
  },
  {
   "cell_type": "markdown",
   "metadata": {},
   "source": [
    "## Πειραματισμός με Batch Sizes ( συγκρίσεις χρόνου και ακρίβειας )"
   ]
  },
  {
   "cell_type": "code",
   "execution_count": 817,
   "metadata": {},
   "outputs": [
    {
     "data": {
      "image/png": "[encoded data removed]",
      "text/plain": [
       "<Figure size 432x288 with 1 Axes>"
      ]
     },
     "metadata": {
      "needs_background": "light"
     },
     "output_type": "display_data"
    }
   ],
   "source": [
    "import matplotlib.pyplot as plt \n",
    "import matplotlib.patches as mpatches\n",
    "  \n",
    "# x axis values \n",
    "x1 = [92]\n",
    "x2 = [28]\n",
    "x3 = [22]\n",
    "\n",
    "# corresponding y axis values \n",
    "no1 = [0.81] \n",
    "no2 = [0.83] \n",
    "no3 = [0.78]\n",
    "  \n",
    "# plotting the points  \n",
    "plt.plot(x1, no1, 'ro') \n",
    "plt.plot(x2, no2, 'bo') \n",
    "plt.plot(x3, no3, 'go') \n",
    "\n",
    "red = mpatches.Patch(color='red', label='batch_size=10')\n",
    "blue = mpatches.Patch(color='blue', label='batch_size=100')\n",
    "green = mpatches.Patch(color='green', label='batch_size=1000')\n",
    "plt.legend(handles=[red,blue,green])\n",
    "  \n",
    "# setting x and y axis range \n",
    "plt.ylim(0,1) \n",
    "plt.xlim(1,100) \n",
    "  \n",
    "# naming the x axis \n",
    "plt.xlabel('Prediction Time in seconds') \n",
    "# naming the y axis \n",
    "plt.ylabel('Accuracy on Test set') \n",
    "  \n",
    "# giving a title to my graph \n",
    "plt.title('learning_rate=0.0001, no_of_neurons=100, training_set=3000 examples') \n",
    "  \n",
    "# function to show the plot \n",
    "plt.show() "
   ]
  },
  {
   "cell_type": "markdown",
   "metadata": {},
   "source": [
    "## Πειραματισμός με διαφορετικό πλήθος από layer ( συγκρίσεις ακρίβειας ως προς πλήθος νευρώνων )"
   ]
  },
  {
   "cell_type": "code",
   "execution_count": 818,
   "metadata": {},
   "outputs": [
    {
     "data": {
      "image/png": "[encoded data removed]",
      "text/plain": [
       "<Figure size 432x288 with 1 Axes>"
      ]
     },
     "metadata": {
      "needs_background": "light"
     },
     "output_type": "display_data"
    }
   ],
   "source": [
    "import matplotlib.pyplot as plt \n",
    "import matplotlib.patches as mpatches\n",
    "  \n",
    "# x axis values \n",
    "x = [10,30,50,75,100,150,200] \n",
    "\n",
    "# corresponding y axis values \n",
    "no1 = [0.71,0.81,0.82,0.82,0.83,0.83,0.83] \n",
    "no2 = [0.66,0.76,0.81,0.82,0.83,0.84,0.83] \n",
    "no3 = [0.24,0.65,0.77,0.78,0.79,0.81,0.81]\n",
    "  \n",
    "# plotting the points  \n",
    "plt.plot(x, no1, color='red', linewidth = 2) \n",
    "plt.plot(x, no2, color='blue', linewidth = 2) \n",
    "plt.plot(x, no3, color='green', linewidth = 2) \n",
    "\n",
    "red = mpatches.Patch(color='red', label='1 layer')\n",
    "blue = mpatches.Patch(color='blue', label='2 layers')\n",
    "green = mpatches.Patch(color='green', label='3 layers')\n",
    "plt.legend(handles=[red,blue,green])\n",
    "  \n",
    "# setting x and y axis range \n",
    "plt.ylim(0,1) \n",
    "plt.xlim(1,200) \n",
    "  \n",
    "# naming the x axis \n",
    "plt.xlabel('Number of neurons in each hidden layer') \n",
    "# naming the y axis \n",
    "plt.ylabel('Accuracy on Test set') \n",
    "  \n",
    "# giving a title to my graph \n",
    "plt.title('sigmoid, batch_size=100, l_r=0.0001, training_set=3000 examples') \n",
    "  \n",
    "# function to show the plot \n",
    "plt.show() "
   ]
  },
  {
   "cell_type": "markdown",
   "metadata": {},
   "source": [
    "## Πειραματισμός με Shuffling των δεδομένων για κάθε εποχή ( συγκρίσεις ακρίβειας ως προς πλήθος training δεδομένων )"
   ]
  },
  {
   "cell_type": "code",
   "execution_count": 819,
   "metadata": {},
   "outputs": [
    {
     "data": {
      "image/png": "[encoded data removed]",
      "text/plain": [
       "<Figure size 432x288 with 1 Axes>"
      ]
     },
     "metadata": {
      "needs_background": "light"
     },
     "output_type": "display_data"
    }
   ],
   "source": [
    "\n",
    "labels = ['1000', '3000', '10000', '60000']\n",
    "shuffled = [0.79, 0.82, 0.83, 0.85]\n",
    "unshuffled = [0.78, 0.83, 0.83 , 0.84]\n",
    "\n",
    "x = np.arange(len(labels))  # the label locations\n",
    "width = 0.35  # the width of the bars\n",
    "\n",
    "fig, ax = plt.subplots()\n",
    "rects1 = ax.bar(x - width/2, shuffled, width, label='Shuffled')\n",
    "rects2 = ax.bar(x + width/2, unshuffled, width, label='Not Shuffled')\n",
    "\n",
    "# Add some text for labels, title and custom x-axis tick labels, etc.\n",
    "ax.set_ylabel('Accuracy on Test set')\n",
    "ax.set_xlabel('Number of training set samples')\n",
    "ax.set_title('sigmoid, batch_size=1000, l_r=0.001, no_of_neurons=100')\n",
    "ax.set_xticks(x)\n",
    "ax.set_xticklabels(labels)\n",
    "ax.legend()\n",
    "\n",
    "\n",
    "def autolabel(rects):\n",
    "    for rect in rects:\n",
    "        height = rect.get_height()\n",
    "        ax.annotate('{}'.format(height),\n",
    "                    xy=(rect.get_x() + rect.get_width() / 2, height),\n",
    "                    xytext=(0, 3),  # 3 points vertical offset\n",
    "                    textcoords=\"offset points\",\n",
    "                    ha='center', va='bottom')\n",
    "\n",
    "\n",
    "autolabel(rects1)\n",
    "autolabel(rects2)\n",
    "\n",
    "fig.tight_layout()\n",
    "\n",
    "plt.show()"
   ]
  },
  {
   "cell_type": "markdown",
   "metadata": {},
   "source": [
    "## Πειραματισμός με διαφορετικά μεγέθη δεδομένων εκπαίδευσης ( συγκρίσεις ακρίβειας ως προς διαφορετικό πλήθος νευρώνων και hidden layers  )"
   ]
  },
  {
   "cell_type": "code",
   "execution_count": 820,
   "metadata": {},
   "outputs": [
    {
     "data": {
      "image/png": "[encoded data removed]",
      "text/plain": [
       "<Figure size 432x288 with 1 Axes>"
      ]
     },
     "metadata": {
      "needs_background": "light"
     },
     "output_type": "display_data"
    }
   ],
   "source": [
    "labels = ['100', '100,50', '50,100', '150,20', '100,50,20', '50,150,80']\n",
    "samples3 = [0.77, 0.74, 0.69, 0.73, 0.65, 0.70 ]\n",
    "samples10 = [0.78, 0.75, 0.74, 0.75, 0.75, 0.73 ]\n",
    "samples60 = [0.82, 0.80, 0.80 , 0.81, 0.81, 0.80]\n",
    "\n",
    "x = np.arange(len(labels))  # the label locations\n",
    "width = 0.25  # the width of the bars\n",
    "\n",
    "fig, ax = plt.subplots()\n",
    "rects1 = ax.bar(x - width, samples3, width, label='3000 samples')\n",
    "rects2 = ax.bar(x , samples10, width, label='10000 samples')\n",
    "rects3 = ax.bar(x + width, samples60, width, label='60000 samples')\n",
    "\n",
    "# Add some text for labels, title and custom x-axis tick labels, etc.\n",
    "ax.set_ylabel('Accuracy on Test set')\n",
    "ax.set_xlabel('Number of neurons in each layer')\n",
    "ax.set_title('sigmoid, batch_size=100, l_r=0.001')\n",
    "ax.set_xticks(x)\n",
    "ax.set_xticklabels(labels)\n",
    "ax.legend()\n",
    "\n",
    "\n",
    "def autolabel(rects):\n",
    "    for rect in rects:\n",
    "        height = rect.get_height()\n",
    "        ax.annotate('{}'.format(height),\n",
    "                    xy=(rect.get_x() + rect.get_width() / 2, height),\n",
    "                    xytext=(0, 3),  # 3 points vertical offset\n",
    "                    textcoords=\"offset points\",\n",
    "                    ha='center', va='bottom')\n",
    "\n",
    "\n",
    "autolabel(rects1)\n",
    "autolabel(rects2)\n",
    "autolabel(rects3)\n",
    "\n",
    "fig.tight_layout()\n",
    "\n",
    "plt.show()"
   ]
  },
  {
   "cell_type": "markdown",
   "metadata": {},
   "source": [
    "## Σύγκριση ακρίβειας μεταξύ πρόβλεψης στο training set και στο test set"
   ]
  },
  {
   "cell_type": "code",
   "execution_count": 821,
   "metadata": {
    "scrolled": true
   },
   "outputs": [
    {
     "data": {
      "image/png": "[encoded data removed]",
      "text/plain": [
       "<Figure size 432x288 with 1 Axes>"
      ]
     },
     "metadata": {
      "needs_background": "light"
     },
     "output_type": "display_data"
    }
   ],
   "source": [
    "labels = ['60000']\n",
    "train1 = [0.91]\n",
    "test1 = [0.88]\n",
    "\n",
    "x = np.arange(len(labels))  # the label locations\n",
    "width = 0.20  # the width of the bars\n",
    "\n",
    "fig, ax = plt.subplots()\n",
    "rects1 = ax.bar(x - width/3, train1, width/1.55, label='Train set')\n",
    "rects2 = ax.bar(x + width/3, test1, width/1.55, label='Test set')\n",
    "\n",
    "# Add some text for labels, title and custom x-axis tick labels, etc.\n",
    "ax.set_ylabel('Accuracy')\n",
    "ax.set_xlabel('Dataset')\n",
    "ax.set_title('sigmoid, batch_size=750, l_r=0.0002, neurons = 100')\n",
    "ax.set_xticks(x)\n",
    "ax.set_xticklabels(labels)\n",
    "ax.legend()\n",
    "\n",
    "\n",
    "def autolabel(rects):\n",
    "    for rect in rects:\n",
    "        height = rect.get_height()\n",
    "        ax.annotate('{}'.format(height),\n",
    "                    xy=(rect.get_x() + rect.get_width() / 2, height),\n",
    "                    xytext=(0, 3),  # 3 points vertical offset\n",
    "                    textcoords=\"offset points\",\n",
    "                    ha='center', va='bottom')\n",
    "\n",
    "\n",
    "autolabel(rects1)\n",
    "autolabel(rects2)\n",
    "\n",
    "fig.tight_layout()\n",
    "\n",
    "plt.show()"
   ]
  },
  {
   "cell_type": "markdown",
   "metadata": {},
   "source": [
    "# MY IMPLEMENTATION OF MULTILAYER PERCEPTRON WITH 1 HIDDEN LAYER"
   ]
  },
  {
   "cell_type": "code",
   "execution_count": 822,
   "metadata": {},
   "outputs": [
    {
     "data": {
      "text/plain": [
       "((3000, 784), (3000, 10))"
      ]
     },
     "execution_count": 822,
     "metadata": {},
     "output_type": "execute_result"
    }
   ],
   "source": [
    "# Smaller train set of 3000 rows\n",
    "# Transform y dataset with one hot encoding.\n",
    "\n",
    "small_x_train, small_y_train = create_dataset(3000)\n",
    "\n",
    "enc = OneHotEncoder()\n",
    "small_y_train = small_y_train.reshape(-1, 1)\n",
    "enc.fit(small_y_train)\n",
    "small_y_train = enc.transform(small_y_train)\n",
    "\n",
    "small_x_train.shape, small_y_train.shape"
   ]
  },
  {
   "cell_type": "code",
   "execution_count": 823,
   "metadata": {},
   "outputs": [
    {
     "data": {
      "text/plain": [
       "((3000, 784), (3000, 10))"
      ]
     },
     "execution_count": 823,
     "metadata": {},
     "output_type": "execute_result"
    }
   ],
   "source": [
    "# Smaller test set of 3000 rows\n",
    "# Transform y dataset with one hot encoding.\n",
    "\n",
    "small_x_test, small_y_test = create_test_dataset(3000)\n",
    "\n",
    "enc = OneHotEncoder()\n",
    "small_y_test = small_y_test.reshape(-1, 1)\n",
    "enc.fit(small_y_test)\n",
    "small_y_test = enc.transform(small_y_test)\n",
    "\n",
    "small_x_test.shape, small_y_test.shape"
   ]
  },
  {
   "cell_type": "code",
   "execution_count": 824,
   "metadata": {},
   "outputs": [],
   "source": [
    "np.random.seed(0)\n",
    "\n",
    "\n",
    "def sigmoid(u):\n",
    "    return 1/(1+np.exp(-u))\n",
    "\n",
    "def sigmoid_prime(u):\n",
    "    return sigmoid(u)*(1-sigmoid(u))\n",
    "\n",
    "def loss(y,a):\n",
    "    return (a-y.toarray())\n",
    "\n",
    "\n",
    "# 1 Hidden Layer only\n",
    "\n",
    "def init_model(nn_i,nn_h1,nn_o):\n",
    "\n",
    "    w1 = np.random.randn(nn_i, nn_h1)      # Random weights for 1st layer                       (CAN TRY WITH ZEROS TOO)\n",
    "    \n",
    "    b1 = np.zeros((1, nn_h1))              # Zeros as bias for 1st layer \n",
    "    \n",
    "    w2 = np.random.randn(nn_h1, nn_h1)     # Random weights for 2nd layer\n",
    "    \n",
    "    b2 = np.zeros((1, nn_h1))              # Zeros as bias for 2nd layer\n",
    "    \n",
    "    w3 = np.random.rand(nn_h1, nn_o)       # Random weights for 3rd layer \n",
    "    \n",
    "    b3 = np.zeros((1, nn_o))               # Zeros as bias for 3rd layer\n",
    "    \n",
    "    # Build the model and return it\n",
    "    \n",
    "    model = {'w1':w1, 'b1':b1, 'w2':w2, 'b2':b2, 'w3':w3, 'b3':b3}\n",
    "    return model\n",
    "\n",
    "\n",
    "def train_model(model, x_train, y_train, learning_rate, epochs, batch_size):\n",
    "    \n",
    "    #Loop over epochs\n",
    "    \n",
    "    for i in range(epochs):\n",
    "\n",
    "        # Forward propagation\n",
    "        \n",
    "        fp_results = forward_prop(model,x_train)        \n",
    "        \n",
    "        \n",
    "        # Backpropagation\n",
    "        \n",
    "        grads = backward_prop(model,fp_results,y_train)\n",
    "        \n",
    "        \n",
    "        # Gradient descent parameter update\n",
    "        \n",
    "        model = update_parameters(model,grads,learning_rate)\n",
    "        \n",
    "    return model\n",
    "\n",
    "\n",
    "\n",
    "# The forward propagation function\n",
    "\n",
    "def forward_prop(model,a0):\n",
    "        \n",
    "    # Load parameters from model\n",
    "    w1, b1, w2, b2, w3, b3 = model['w1'], model['b1'], model['w2'], model['b2'], model['w3'],model['b3']\n",
    "     \n",
    "    # First linear step = input layer x times the dot product of the weights + our bias b\n",
    "    u1 = a0.dot(w1) + b1\n",
    "\n",
    "    # First activation function\n",
    "    a1 = sigmoid(u1)                \n",
    "    \n",
    "    # Second linear step\n",
    "    u2 = a1.dot(w2) + b2\n",
    "    \n",
    "    # Second activation function\n",
    "    a2 = sigmoid(u2)\n",
    "    \n",
    "    # Third linear step\n",
    "    u3 = a2.dot(w3) + b3\n",
    "    \n",
    "    # For the Third linear activation function (last layer) either the sigmoid or softmax should be used.\n",
    "    a3 = sigmoid(u3)\n",
    "\n",
    "    #Store results and return them\n",
    "    \n",
    "    fp_results = {'a0':a0, 'u1':u1, 'a1':a1, 'u2':u2, 'a2':a2, 'u3':u3, 'a3':a3}\n",
    "    return fp_results\n",
    "\n",
    "\n",
    "\n",
    "# The backward propagation function\n",
    "\n",
    "def backward_prop(model,fp_results,y):\n",
    "\n",
    "    # Load parameters from model\n",
    "    w1, b1, w2, b2, w3, b3 = model['w1'], model['b1'], model['w2'], model['b2'], model['w3'],model['b3']\n",
    "    \n",
    "    # Load forward propagation results\n",
    "    a0, a1, a2, a3 = fp_results['a0'], fp_results['a1'], fp_results['a2'], fp_results['a3']\n",
    "    \n",
    "    u1, u2, u3 = fp_results['u1'], fp_results['u2'], fp_results['u3']\n",
    "    \n",
    "    # Get number of samples\n",
    "    m = y.shape[0]\n",
    "    \n",
    "    # Calculate δ for output layer\n",
    "    delta3 = 2*loss(y,a3)/m*sigmoid_prime(u3)\n",
    "\n",
    "    dw3 = (a2.T).dot(delta3) \n",
    "    db3 = np.sum(delta3, axis=0)\n",
    "    \n",
    "    # Calculate δ for hidden layer\n",
    "    delta2 = np.multiply(delta3.dot(w3.T), sigmoid_prime(a2))               \n",
    "    \n",
    "    dw2 = np.dot(a1.T, delta2)\n",
    "    db2 = np.sum(delta2, axis=0)\n",
    "    \n",
    "    # Calculate δ for input layer\n",
    "    delta1 = np.multiply(delta2.dot(w2.T), sigmoid_prime(a1))\n",
    "    \n",
    "    dw1 = np.dot(a0.T, delta1)\n",
    "    db1 = np.sum(delta1,axis=0)\n",
    "    \n",
    "    # Store gradients\n",
    "    grads = {'dw3':dw3, 'db3':db3, 'dw2':dw2,'db2':db2,'dw1':dw1,'db1':db1}\n",
    "    return grads\n",
    "\n",
    "\n",
    "# The function to update the parameters\n",
    "\n",
    "def update_parameters(model,grads,learning_rate):\n",
    "    # Load parameters\n",
    "    w1, b1, w2, b2, w3, b3 = model['w1'], model['b1'], model['w2'], model['b2'], model[\"w3\"], model['b3']\n",
    "    \n",
    "    # Update parameters by applying Gradient Descent Update (Also called Vanilla Update)\n",
    "    \n",
    "    w1 -= learning_rate * grads['dw1']\n",
    "    b1 -= learning_rate * grads['db1']\n",
    "    w2 -= learning_rate * grads['dw2']\n",
    "    b2 -= learning_rate * grads['db2']\n",
    "    w3 -= learning_rate * grads['dw3']\n",
    "    b3 -= learning_rate * grads['db3']\n",
    "    \n",
    "    # Store and return parameters\n",
    "    model = { 'w1': w1, 'b1': b1, 'w2': w2, 'b2': b2, 'w3':w3,'b3':b3}\n",
    "    return model\n"
   ]
  },
  {
   "cell_type": "code",
   "execution_count": 825,
   "metadata": {},
   "outputs": [
    {
     "name": "stderr",
     "output_type": "stream",
     "text": [
      "<ipython-input-824-411e9455f2e3>:5: RuntimeWarning: overflow encountered in exp\n",
      "  return 1/(1+np.exp(-u))\n"
     ]
    }
   ],
   "source": [
    "nn_i=784\n",
    "nn_h1=100\n",
    "nn_o=10\n",
    "\n",
    "#print(small_y_train)\n",
    "\n",
    "myMlp = init_model(nn_i, nn_h1, nn_o)\n",
    "myMlp = train_model(myMlp, small_x_train, small_y_train, 0.0001, 200, 200)\n"
   ]
  }
 ],
 "metadata": {
  "kernelspec": {
   "display_name": "Python 3",
   "language": "python",
   "name": "python3"
  },
  "language_info": {
   "codemirror_mode": {
    "name": "ipython",
    "version": 3
   },
   "file_extension": ".py",
   "mimetype": "text/x-python",
   "name": "python",
   "nbconvert_exporter": "python",
   "pygments_lexer": "ipython3",
   "version": "3.8.3"
  }
 },
 "nbformat": 4,
 "nbformat_minor": 4
}
