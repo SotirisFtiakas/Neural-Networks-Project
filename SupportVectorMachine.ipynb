{
 "cells": [
  {
   "cell_type": "markdown",
   "metadata": {},
   "source": [
    "# To run this successfully, run every cell from top to bottom\n",
    "\n",
    "### Note: Every cell has already been run by me, and results are shown, so there is no need to actually run everything."
   ]
  },
  {
   "cell_type": "code",
   "execution_count": 108,
   "metadata": {},
   "outputs": [],
   "source": [
    "# For the purpose of this project, I used a dataset I found in Kaggle, called \"Fashion-MNIST\" which is a slight\n",
    "# variation to the commonly known MNIST dataset. I decided to use the \"Fashion-MNIST\" dataset just to differ from \n",
    "# the others hehe."
   ]
  },
  {
   "cell_type": "code",
   "execution_count": 109,
   "metadata": {},
   "outputs": [],
   "source": [
    "# Here we import all the need libraries\n",
    "\n",
    "import pandas as pd\n",
    "import numpy as np\n",
    "import heapq\n",
    "import timeit\n",
    "\n",
    "from sklearn.metrics.pairwise import euclidean_distances\n",
    "from sklearn.metrics.pairwise import manhattan_distances\n",
    "from sklearn.metrics.pairwise import cosine_similarity\n",
    "\n",
    "from sklearn.metrics import classification_report"
   ]
  },
  {
   "cell_type": "code",
   "execution_count": 110,
   "metadata": {},
   "outputs": [],
   "source": [
    "# Load the datasets from the FashionMNIST folder.\n",
    "\n",
    "data_train = pd.read_csv(\"./FashionMNIST/fashion-mnist_train.csv\")\n",
    "data_test = pd.read_csv(\"./FashionMNIST/fashion-mnist_test.csv\")\n"
   ]
  },
  {
   "cell_type": "code",
   "execution_count": 111,
   "metadata": {},
   "outputs": [],
   "source": [
    "# Dictionary to indicate which class number corresponds to which type of clothing\n",
    "\n",
    "fashionmnist = {\n",
    "    \"0\": \"T-shirt/top\",\n",
    "    \"1\": \"Trouser\",\n",
    "    \"2\": \"Pullover\",\n",
    "    \"3\": \"Dress\",\n",
    "    \"4\": \"Coat\",\n",
    "    \"5\": \"Sandal\",\n",
    "    \"6\": \"Shirt\",\n",
    "    \"7\": \"Sneaker\",\n",
    "    \"8\": \"Bag\",\n",
    "    \"9\": \"Ankle boot\",\n",
    "}"
   ]
  },
  {
   "cell_type": "code",
   "execution_count": 112,
   "metadata": {},
   "outputs": [
    {
     "data": {
      "text/html": [
       "<div>\n",
       "<style scoped>\n",
       "    .dataframe tbody tr th:only-of-type {\n",
       "        vertical-align: middle;\n",
       "    }\n",
       "\n",
       "    .dataframe tbody tr th {\n",
       "        vertical-align: top;\n",
       "    }\n",
       "\n",
       "    .dataframe thead th {\n",
       "        text-align: right;\n",
       "    }\n",
       "</style>\n",
       "<table border=\"1\" class=\"dataframe\">\n",
       "  <thead>\n",
       "    <tr style=\"text-align: right;\">\n",
       "      <th></th>\n",
       "      <th>label</th>\n",
       "      <th>pixel1</th>\n",
       "      <th>pixel2</th>\n",
       "      <th>pixel3</th>\n",
       "      <th>pixel4</th>\n",
       "      <th>pixel5</th>\n",
       "      <th>pixel6</th>\n",
       "      <th>pixel7</th>\n",
       "      <th>pixel8</th>\n",
       "      <th>pixel9</th>\n",
       "      <th>...</th>\n",
       "      <th>pixel775</th>\n",
       "      <th>pixel776</th>\n",
       "      <th>pixel777</th>\n",
       "      <th>pixel778</th>\n",
       "      <th>pixel779</th>\n",
       "      <th>pixel780</th>\n",
       "      <th>pixel781</th>\n",
       "      <th>pixel782</th>\n",
       "      <th>pixel783</th>\n",
       "      <th>pixel784</th>\n",
       "    </tr>\n",
       "  </thead>\n",
       "  <tbody>\n",
       "    <tr>\n",
       "      <th>0</th>\n",
       "      <td>0</td>\n",
       "      <td>0</td>\n",
       "      <td>0</td>\n",
       "      <td>0</td>\n",
       "      <td>0</td>\n",
       "      <td>0</td>\n",
       "      <td>0</td>\n",
       "      <td>0</td>\n",
       "      <td>9</td>\n",
       "      <td>8</td>\n",
       "      <td>...</td>\n",
       "      <td>103</td>\n",
       "      <td>87</td>\n",
       "      <td>56</td>\n",
       "      <td>0</td>\n",
       "      <td>0</td>\n",
       "      <td>0</td>\n",
       "      <td>0</td>\n",
       "      <td>0</td>\n",
       "      <td>0</td>\n",
       "      <td>0</td>\n",
       "    </tr>\n",
       "    <tr>\n",
       "      <th>1</th>\n",
       "      <td>1</td>\n",
       "      <td>0</td>\n",
       "      <td>0</td>\n",
       "      <td>0</td>\n",
       "      <td>0</td>\n",
       "      <td>0</td>\n",
       "      <td>0</td>\n",
       "      <td>0</td>\n",
       "      <td>0</td>\n",
       "      <td>0</td>\n",
       "      <td>...</td>\n",
       "      <td>34</td>\n",
       "      <td>0</td>\n",
       "      <td>0</td>\n",
       "      <td>0</td>\n",
       "      <td>0</td>\n",
       "      <td>0</td>\n",
       "      <td>0</td>\n",
       "      <td>0</td>\n",
       "      <td>0</td>\n",
       "      <td>0</td>\n",
       "    </tr>\n",
       "    <tr>\n",
       "      <th>2</th>\n",
       "      <td>2</td>\n",
       "      <td>0</td>\n",
       "      <td>0</td>\n",
       "      <td>0</td>\n",
       "      <td>0</td>\n",
       "      <td>0</td>\n",
       "      <td>0</td>\n",
       "      <td>14</td>\n",
       "      <td>53</td>\n",
       "      <td>99</td>\n",
       "      <td>...</td>\n",
       "      <td>0</td>\n",
       "      <td>0</td>\n",
       "      <td>0</td>\n",
       "      <td>0</td>\n",
       "      <td>63</td>\n",
       "      <td>53</td>\n",
       "      <td>31</td>\n",
       "      <td>0</td>\n",
       "      <td>0</td>\n",
       "      <td>0</td>\n",
       "    </tr>\n",
       "    <tr>\n",
       "      <th>3</th>\n",
       "      <td>2</td>\n",
       "      <td>0</td>\n",
       "      <td>0</td>\n",
       "      <td>0</td>\n",
       "      <td>0</td>\n",
       "      <td>0</td>\n",
       "      <td>0</td>\n",
       "      <td>0</td>\n",
       "      <td>0</td>\n",
       "      <td>0</td>\n",
       "      <td>...</td>\n",
       "      <td>137</td>\n",
       "      <td>126</td>\n",
       "      <td>140</td>\n",
       "      <td>0</td>\n",
       "      <td>133</td>\n",
       "      <td>224</td>\n",
       "      <td>222</td>\n",
       "      <td>56</td>\n",
       "      <td>0</td>\n",
       "      <td>0</td>\n",
       "    </tr>\n",
       "    <tr>\n",
       "      <th>4</th>\n",
       "      <td>3</td>\n",
       "      <td>0</td>\n",
       "      <td>0</td>\n",
       "      <td>0</td>\n",
       "      <td>0</td>\n",
       "      <td>0</td>\n",
       "      <td>0</td>\n",
       "      <td>0</td>\n",
       "      <td>0</td>\n",
       "      <td>0</td>\n",
       "      <td>...</td>\n",
       "      <td>0</td>\n",
       "      <td>0</td>\n",
       "      <td>0</td>\n",
       "      <td>0</td>\n",
       "      <td>0</td>\n",
       "      <td>0</td>\n",
       "      <td>0</td>\n",
       "      <td>0</td>\n",
       "      <td>0</td>\n",
       "      <td>0</td>\n",
       "    </tr>\n",
       "  </tbody>\n",
       "</table>\n",
       "<p>5 rows × 785 columns</p>\n",
       "</div>"
      ],
      "text/plain": [
       "   label  pixel1  pixel2  pixel3  pixel4  pixel5  pixel6  pixel7  pixel8  \\\n",
       "0      0       0       0       0       0       0       0       0       9   \n",
       "1      1       0       0       0       0       0       0       0       0   \n",
       "2      2       0       0       0       0       0       0      14      53   \n",
       "3      2       0       0       0       0       0       0       0       0   \n",
       "4      3       0       0       0       0       0       0       0       0   \n",
       "\n",
       "   pixel9  ...  pixel775  pixel776  pixel777  pixel778  pixel779  pixel780  \\\n",
       "0       8  ...       103        87        56         0         0         0   \n",
       "1       0  ...        34         0         0         0         0         0   \n",
       "2      99  ...         0         0         0         0        63        53   \n",
       "3       0  ...       137       126       140         0       133       224   \n",
       "4       0  ...         0         0         0         0         0         0   \n",
       "\n",
       "   pixel781  pixel782  pixel783  pixel784  \n",
       "0         0         0         0         0  \n",
       "1         0         0         0         0  \n",
       "2        31         0         0         0  \n",
       "3       222        56         0         0  \n",
       "4         0         0         0         0  \n",
       "\n",
       "[5 rows x 785 columns]"
      ]
     },
     "execution_count": 112,
     "metadata": {},
     "output_type": "execute_result"
    }
   ],
   "source": [
    "# Representation of how the dataset looks like.\n",
    "\n",
    "data_test.head()"
   ]
  },
  {
   "cell_type": "code",
   "execution_count": 113,
   "metadata": {},
   "outputs": [],
   "source": [
    "# Split the train and test dataframes into features(X) and labels(Y)\n",
    "\n",
    "X_train = data_train.drop([\"label\"],axis=1)\n",
    "Y_train = data_train[[\"label\"]].values.ravel()\n",
    "X_test = data_test.drop([\"label\"],axis=1)\n",
    "Y_test = data_test[[\"label\"]].values.ravel()\n",
    "\n",
    "# I used .ravel() due to some inconsistences with the dataset (..Thanks StackOverflow :D)\n",
    "\n",
    "# Also, since all features range from 0 to 255, we don't need to normalize them."
   ]
  },
  {
   "cell_type": "code",
   "execution_count": 114,
   "metadata": {},
   "outputs": [
    {
     "data": {
      "text/plain": [
       "((60000, 784), (60000,), (10000, 784), (10000,))"
      ]
     },
     "execution_count": 114,
     "metadata": {},
     "output_type": "execute_result"
    }
   ],
   "source": [
    "# We can look at how many rows and columns each dataset has\n",
    "\n",
    "X_train.shape, Y_train.shape, X_test.shape, Y_test.shape"
   ]
  },
  {
   "cell_type": "code",
   "execution_count": 115,
   "metadata": {},
   "outputs": [],
   "source": [
    "# Function to create different kind of sizes for training datasets (For testing purposes)\n",
    "\n",
    "def create_dataset(size):\n",
    "    \"\"\"makes a dataset of size \"size\", and returns that datasets images and targets\n",
    "    This is used to make the dataset that will be stored by a model and used in \n",
    "    experimenting with different stored dataset sizes\n",
    "    \"\"\"\n",
    "    small_x_train = X_train[:size]\n",
    "    small_y_train = Y_train[:size]\n",
    "    \n",
    "    return small_x_train, small_y_train\n"
   ]
  },
  {
   "cell_type": "code",
   "execution_count": 116,
   "metadata": {},
   "outputs": [],
   "source": [
    "# Function to create different kind of sizes for testing datasets (For testing purposes)\n",
    "\n",
    "def create_test_dataset(size):\n",
    "    \"\"\"makes a dataset of size \"size\", and returns that datasets images and targets\n",
    "    This is used to make the dataset that will be tested by a model and used in \n",
    "    experimenting with different test dataset sizes\n",
    "    \"\"\"\n",
    "    small_x_test = X_test[:size]\n",
    "    small_y_test = Y_test[:size]\n",
    "    \n",
    "    return small_x_test, small_y_test"
   ]
  },
  {
   "cell_type": "code",
   "execution_count": 117,
   "metadata": {},
   "outputs": [
    {
     "data": {
      "text/plain": [
       "((60000, 784), (60000,))"
      ]
     },
     "execution_count": 117,
     "metadata": {},
     "output_type": "execute_result"
    }
   ],
   "source": [
    "# Smaller train set of 1000 rows (I put it 60000 for the final project)\n",
    "\n",
    "small_x_train, small_y_train = create_dataset(60000)\n",
    "\n",
    "small_x_train.shape, small_y_train.shape"
   ]
  },
  {
   "cell_type": "code",
   "execution_count": 118,
   "metadata": {},
   "outputs": [
    {
     "data": {
      "text/plain": [
       "((10000, 784), (10000,))"
      ]
     },
     "execution_count": 118,
     "metadata": {},
     "output_type": "execute_result"
    }
   ],
   "source": [
    "# Smaller test set of 1000 rows (I put it 10000 for the final project)\n",
    "\n",
    "small_x_test, small_y_test = create_test_dataset(10000)\n",
    "\n",
    "small_x_test.shape, small_y_test.shape"
   ]
  },
  {
   "cell_type": "code",
   "execution_count": 119,
   "metadata": {},
   "outputs": [],
   "source": [
    "# Import some important libraries and features\n",
    "\n",
    "from sklearn.neural_network import MLPClassifier\n",
    "from sklearn.preprocessing import OneHotEncoder\n",
    "import matplotlib.pyplot as plt\n",
    "from sklearn.metrics import accuracy_score\n",
    "from sklearn.metrics import confusion_matrix"
   ]
  },
  {
   "cell_type": "code",
   "execution_count": 120,
   "metadata": {},
   "outputs": [],
   "source": [
    "from sklearn.svm import SVC\n",
    "from sklearn.svm import LinearSVC"
   ]
  },
  {
   "cell_type": "markdown",
   "metadata": {},
   "source": [
    "## READY SVM:\n",
    "\n",
    "I used the **sklearn**-implemented **Suport Vector Machine** Classifier like this:\n",
    "\n",
    "svm = SVC()"
   ]
  },
  {
   "cell_type": "markdown",
   "metadata": {},
   "source": [
    "### Standard SVC()"
   ]
  },
  {
   "cell_type": "code",
   "execution_count": 370,
   "metadata": {},
   "outputs": [
    {
     "name": "stdout",
     "output_type": "stream",
     "text": [
      "              precision    recall  f1-score   support\n",
      "\n",
      "           0       0.85      0.89      0.87      6000\n",
      "           1       1.00      0.97      0.98      6000\n",
      "           2       0.85      0.85      0.85      6000\n",
      "           3       0.90      0.93      0.91      6000\n",
      "           4       0.84      0.87      0.85      6000\n",
      "           5       0.98      0.97      0.97      6000\n",
      "           6       0.79      0.72      0.76      6000\n",
      "           7       0.95      0.97      0.96      6000\n",
      "           8       0.98      0.98      0.98      6000\n",
      "           9       0.98      0.97      0.97      6000\n",
      "\n",
      "    accuracy                           0.91     60000\n",
      "   macro avg       0.91      0.91      0.91     60000\n",
      "weighted avg       0.91      0.91      0.91     60000\n",
      "\n",
      "Time:  1444.4626169000112\n"
     ]
    }
   ],
   "source": [
    "start = timeit.default_timer()\n",
    "\n",
    "svm = SVC()\n",
    "\n",
    "svm.fit(small_x_train,small_y_train)\n",
    "\n",
    "pred = svm.predict(small_x_test)\n",
    "\n",
    "print(classification_report(small_y_test, pred))\n",
    "\n",
    "stop = timeit.default_timer()\n",
    "\n",
    "\n",
    "print('Time: ', stop - start)"
   ]
  },
  {
   "cell_type": "markdown",
   "metadata": {},
   "source": [
    "### Kernel = Polynomial"
   ]
  },
  {
   "cell_type": "code",
   "execution_count": 371,
   "metadata": {},
   "outputs": [
    {
     "name": "stdout",
     "output_type": "stream",
     "text": [
      "              precision    recall  f1-score   support\n",
      "\n",
      "           0       0.85      0.91      0.88      6000\n",
      "           1       1.00      0.97      0.98      6000\n",
      "           2       0.89      0.85      0.87      6000\n",
      "           3       0.92      0.92      0.92      6000\n",
      "           4       0.90      0.84      0.87      6000\n",
      "           5       0.85      0.98      0.91      6000\n",
      "           6       0.80      0.79      0.79      6000\n",
      "           7       0.95      0.92      0.93      6000\n",
      "           8       0.99      0.96      0.98      6000\n",
      "           9       0.98      0.96      0.97      6000\n",
      "\n",
      "    accuracy                           0.91     60000\n",
      "   macro avg       0.91      0.91      0.91     60000\n",
      "weighted avg       0.91      0.91      0.91     60000\n",
      "\n",
      "Time:  1578.185893700007\n"
     ]
    }
   ],
   "source": [
    "start = timeit.default_timer()\n",
    "\n",
    "svm = SVC(kernel=\"poly\")\n",
    "\n",
    "svm.fit(small_x_train,small_y_train)\n",
    "\n",
    "pred = svm.predict(small_x_test)\n",
    "\n",
    "print(classification_report(small_y_test, pred))\n",
    "\n",
    "stop = timeit.default_timer()\n",
    "\n",
    "\n",
    "print('Time: ', stop - start)"
   ]
  },
  {
   "cell_type": "markdown",
   "metadata": {},
   "source": [
    "### Kernel = Sigmoid"
   ]
  },
  {
   "cell_type": "code",
   "execution_count": 329,
   "metadata": {},
   "outputs": [
    {
     "name": "stdout",
     "output_type": "stream",
     "text": [
      "              precision    recall  f1-score   support\n",
      "\n",
      "           0       0.76      0.17      0.28      1000\n",
      "           1       0.47      0.84      0.60      1000\n",
      "           2       0.18      0.47      0.26      1000\n",
      "           3       0.57      0.39      0.46      1000\n",
      "           4       0.43      0.14      0.21      1000\n",
      "           5       0.30      0.50      0.38      1000\n",
      "           6       0.20      0.03      0.04      1000\n",
      "           7       0.77      0.78      0.78      1000\n",
      "           8       0.29      0.22      0.25      1000\n",
      "           9       0.74      0.59      0.66      1000\n",
      "\n",
      "    accuracy                           0.41     10000\n",
      "   macro avg       0.47      0.41      0.39     10000\n",
      "weighted avg       0.47      0.41      0.39     10000\n",
      "\n",
      "Time:  7.510436500000651\n"
     ]
    }
   ],
   "source": [
    "start = timeit.default_timer()\n",
    "\n",
    "svm = SVC(kernel=\"sigmoid\")\n",
    "\n",
    "svm.fit(small_x_train,small_y_train)\n",
    "\n",
    "pred = svm.predict(small_x_test)\n",
    "\n",
    "print(classification_report(small_y_test, pred))\n",
    "\n",
    "stop = timeit.default_timer()\n",
    "\n",
    "\n",
    "print('Time: ', stop - start)"
   ]
  },
  {
   "cell_type": "markdown",
   "metadata": {},
   "source": [
    "### Kernel = Polynomial, Degree = 5"
   ]
  },
  {
   "cell_type": "code",
   "execution_count": 41,
   "metadata": {},
   "outputs": [
    {
     "name": "stdout",
     "output_type": "stream",
     "text": [
      "              precision    recall  f1-score   support\n",
      "\n",
      "           0       0.78      0.83      0.81      1000\n",
      "           1       0.98      0.97      0.97      1000\n",
      "           2       0.82      0.71      0.76      1000\n",
      "           3       0.90      0.85      0.87      1000\n",
      "           4       0.85      0.76      0.81      1000\n",
      "           5       0.64      0.96      0.76      1000\n",
      "           6       0.67      0.63      0.65      1000\n",
      "           7       0.92      0.82      0.87      1000\n",
      "           8       0.97      0.92      0.95      1000\n",
      "           9       0.96      0.92      0.94      1000\n",
      "\n",
      "    accuracy                           0.84     10000\n",
      "   macro avg       0.85      0.84      0.84     10000\n",
      "weighted avg       0.85      0.84      0.84     10000\n",
      "\n",
      "Time:  1016.8440081999997\n"
     ]
    }
   ],
   "source": [
    "start = timeit.default_timer()\n",
    "\n",
    "svm = SVC(kernel=\"poly\", degree=5)\n",
    "\n",
    "svm.fit(small_x_train,small_y_train)\n",
    "\n",
    "pred = svm.predict(small_x_test)\n",
    "\n",
    "print(classification_report(small_y_test, pred))\n",
    "\n",
    "stop = timeit.default_timer()\n",
    "\n",
    "\n",
    "print('Time: ', stop - start)"
   ]
  },
  {
   "cell_type": "markdown",
   "metadata": {},
   "source": [
    "### Kernel = Polynomial, Degree = 10"
   ]
  },
  {
   "cell_type": "code",
   "execution_count": 42,
   "metadata": {},
   "outputs": [
    {
     "name": "stdout",
     "output_type": "stream",
     "text": [
      "              precision    recall  f1-score   support\n",
      "\n",
      "           0       0.85      0.70      0.77      1000\n",
      "           1       0.97      0.93      0.95      1000\n",
      "           2       0.80      0.65      0.71      1000\n",
      "           3       0.91      0.75      0.82      1000\n",
      "           4       0.80      0.74      0.77      1000\n",
      "           5       0.44      0.96      0.60      1000\n",
      "           6       0.62      0.56      0.59      1000\n",
      "           7       0.93      0.66      0.77      1000\n",
      "           8       0.96      0.87      0.91      1000\n",
      "           9       0.93      0.91      0.92      1000\n",
      "\n",
      "    accuracy                           0.77     10000\n",
      "   macro avg       0.82      0.77      0.78     10000\n",
      "weighted avg       0.82      0.77      0.78     10000\n",
      "\n",
      "Time:  1351.371669\n"
     ]
    }
   ],
   "source": [
    "start = timeit.default_timer()\n",
    "\n",
    "svm = SVC(kernel=\"poly\", degree=10)\n",
    "\n",
    "svm.fit(small_x_train,small_y_train)\n",
    "\n",
    "pred = svm.predict(small_x_test)\n",
    "\n",
    "print(classification_report(small_y_test, pred))\n",
    "\n",
    "stop = timeit.default_timer()\n",
    "\n",
    "\n",
    "print('Time: ', stop - start)"
   ]
  },
  {
   "cell_type": "markdown",
   "metadata": {},
   "source": [
    "### Kernel = Polynomial, gamma = auto"
   ]
  },
  {
   "cell_type": "code",
   "execution_count": 18,
   "metadata": {},
   "outputs": [
    {
     "name": "stdout",
     "output_type": "stream",
     "text": [
      "              precision    recall  f1-score   support\n",
      "\n",
      "           0       0.78      0.83      0.80      1000\n",
      "           1       0.97      0.99      0.98      1000\n",
      "           2       0.78      0.82      0.80      1000\n",
      "           3       0.89      0.87      0.88      1000\n",
      "           4       0.83      0.79      0.81      1000\n",
      "           5       0.97      0.95      0.96      1000\n",
      "           6       0.70      0.67      0.68      1000\n",
      "           7       0.94      0.94      0.94      1000\n",
      "           8       0.97      0.96      0.97      1000\n",
      "           9       0.94      0.96      0.95      1000\n",
      "\n",
      "    accuracy                           0.88     10000\n",
      "   macro avg       0.88      0.88      0.88     10000\n",
      "weighted avg       0.88      0.88      0.88     10000\n",
      "\n",
      "Time:  473.9309395\n"
     ]
    }
   ],
   "source": [
    "start = timeit.default_timer()\n",
    "\n",
    "svm = SVC(kernel=\"poly\", gamma='auto')\n",
    "\n",
    "svm.fit(small_x_train,small_y_train)\n",
    "\n",
    "pred = svm.predict(small_x_test)\n",
    "\n",
    "print(classification_report(small_y_test, pred))\n",
    "\n",
    "stop = timeit.default_timer()\n",
    "\n",
    "\n",
    "print('Time: ', stop - start)"
   ]
  },
  {
   "cell_type": "markdown",
   "metadata": {},
   "source": [
    "### Kernel = Polynomial, gamma = scale"
   ]
  },
  {
   "cell_type": "code",
   "execution_count": 19,
   "metadata": {},
   "outputs": [
    {
     "name": "stdout",
     "output_type": "stream",
     "text": [
      "              precision    recall  f1-score   support\n",
      "\n",
      "           0       0.80      0.86      0.83      1000\n",
      "           1       0.99      0.97      0.98      1000\n",
      "           2       0.83      0.77      0.80      1000\n",
      "           3       0.90      0.90      0.90      1000\n",
      "           4       0.85      0.80      0.83      1000\n",
      "           5       0.82      0.95      0.88      1000\n",
      "           6       0.71      0.71      0.71      1000\n",
      "           7       0.92      0.90      0.91      1000\n",
      "           8       0.98      0.95      0.96      1000\n",
      "           9       0.96      0.94      0.95      1000\n",
      "\n",
      "    accuracy                           0.87     10000\n",
      "   macro avg       0.88      0.87      0.87     10000\n",
      "weighted avg       0.88      0.87      0.87     10000\n",
      "\n",
      "Time:  761.822964\n"
     ]
    }
   ],
   "source": [
    "start = timeit.default_timer()\n",
    "\n",
    "svm = SVC(kernel=\"poly\", gamma='scale')\n",
    "\n",
    "svm.fit(small_x_train,small_y_train)\n",
    "\n",
    "pred = svm.predict(small_x_test)\n",
    "\n",
    "print(classification_report(small_y_test, pred))\n",
    "\n",
    "stop = timeit.default_timer()\n",
    "\n",
    "\n",
    "print('Time: ', stop - start)"
   ]
  },
  {
   "cell_type": "markdown",
   "metadata": {},
   "source": [
    "### SVC with Linear Kernel"
   ]
  },
  {
   "cell_type": "code",
   "execution_count": 121,
   "metadata": {},
   "outputs": [
    {
     "name": "stderr",
     "output_type": "stream",
     "text": [
      "C:\\Users\\Sotiris\\anaconda3\\lib\\site-packages\\sklearn\\svm\\_base.py:976: ConvergenceWarning: Liblinear failed to converge, increase the number of iterations.\n",
      "  warnings.warn(\"Liblinear failed to converge, increase \"\n"
     ]
    },
    {
     "name": "stdout",
     "output_type": "stream",
     "text": [
      "              precision    recall  f1-score   support\n",
      "\n",
      "           0       0.69      0.83      0.76      1000\n",
      "           1       0.94      0.97      0.95      1000\n",
      "           2       0.67      0.71      0.69      1000\n",
      "           3       0.90      0.76      0.82      1000\n",
      "           4       0.68      0.77      0.72      1000\n",
      "           5       0.87      0.89      0.88      1000\n",
      "           6       0.63      0.47      0.54      1000\n",
      "           7       0.91      0.85      0.88      1000\n",
      "           8       0.93      0.89      0.91      1000\n",
      "           9       0.87      0.93      0.90      1000\n",
      "\n",
      "    accuracy                           0.81     10000\n",
      "   macro avg       0.81      0.81      0.81     10000\n",
      "weighted avg       0.81      0.81      0.81     10000\n",
      "\n",
      "Time:  348.13980369999626\n"
     ]
    }
   ],
   "source": [
    "\n",
    "start = timeit.default_timer()\n",
    "\n",
    "linearsvm = LinearSVC()\n",
    "\n",
    "linearsvm.fit(small_x_train,small_y_train)\n",
    "\n",
    "pred = linearsvm.predict(small_x_test)\n",
    "\n",
    "print(classification_report(small_y_test, pred))\n",
    "\n",
    "stop = timeit.default_timer()\n",
    "\n",
    "\n",
    "print('Time: ', stop - start)"
   ]
  },
  {
   "cell_type": "markdown",
   "metadata": {},
   "source": [
    "### SVC with Linear Kernel, primal optimization problem"
   ]
  },
  {
   "cell_type": "code",
   "execution_count": 43,
   "metadata": {},
   "outputs": [
    {
     "name": "stdout",
     "output_type": "stream",
     "text": [
      "              precision    recall  f1-score   support\n",
      "\n",
      "           0       0.78      0.81      0.80      1000\n",
      "           1       0.94      0.97      0.95      1000\n",
      "           2       0.77      0.77      0.77      1000\n",
      "           3       0.84      0.87      0.86      1000\n",
      "           4       0.77      0.81      0.79      1000\n",
      "           5       0.93      0.89      0.91      1000\n",
      "           6       0.67      0.56      0.61      1000\n",
      "           7       0.89      0.92      0.91      1000\n",
      "           8       0.93      0.92      0.93      1000\n",
      "           9       0.92      0.94      0.93      1000\n",
      "\n",
      "    accuracy                           0.85     10000\n",
      "   macro avg       0.84      0.85      0.84     10000\n",
      "weighted avg       0.84      0.85      0.84     10000\n",
      "\n",
      "Time:  1962.6203988999987\n"
     ]
    }
   ],
   "source": [
    "start = timeit.default_timer()\n",
    "\n",
    "linearsvm = LinearSVC(dual=False)\n",
    "\n",
    "linearsvm.fit(small_x_train,small_y_train)\n",
    "\n",
    "pred = linearsvm.predict(small_x_test)\n",
    "\n",
    "print(classification_report(small_y_test, pred))\n",
    "\n",
    "stop = timeit.default_timer()\n",
    "\n",
    "\n",
    "print('Time: ', stop - start)"
   ]
  },
  {
   "cell_type": "markdown",
   "metadata": {},
   "source": [
    "### SVC with Linear Kernel, penalty = L1, primal optimization problem"
   ]
  },
  {
   "cell_type": "code",
   "execution_count": 122,
   "metadata": {},
   "outputs": [
    {
     "name": "stderr",
     "output_type": "stream",
     "text": [
      "C:\\Users\\Sotiris\\anaconda3\\lib\\site-packages\\sklearn\\svm\\_base.py:976: ConvergenceWarning: Liblinear failed to converge, increase the number of iterations.\n",
      "  warnings.warn(\"Liblinear failed to converge, increase \"\n"
     ]
    },
    {
     "name": "stdout",
     "output_type": "stream",
     "text": [
      "              precision    recall  f1-score   support\n",
      "\n",
      "           0       0.78      0.81      0.80      1000\n",
      "           1       0.95      0.97      0.96      1000\n",
      "           2       0.77      0.76      0.77      1000\n",
      "           3       0.84      0.88      0.86      1000\n",
      "           4       0.77      0.81      0.79      1000\n",
      "           5       0.92      0.90      0.91      1000\n",
      "           6       0.66      0.56      0.60      1000\n",
      "           7       0.89      0.92      0.90      1000\n",
      "           8       0.93      0.91      0.92      1000\n",
      "           9       0.93      0.93      0.93      1000\n",
      "\n",
      "    accuracy                           0.85     10000\n",
      "   macro avg       0.84      0.85      0.84     10000\n",
      "weighted avg       0.84      0.85      0.84     10000\n",
      "\n",
      "Time:  1319.9553065\n"
     ]
    }
   ],
   "source": [
    "start = timeit.default_timer()\n",
    "\n",
    "linearsvm = LinearSVC(penalty=\"l1\", dual=False)\n",
    "\n",
    "linearsvm.fit(small_x_train,small_y_train)\n",
    "\n",
    "pred = linearsvm.predict(small_x_test)\n",
    "\n",
    "print(classification_report(small_y_test, pred))\n",
    "\n",
    "stop = timeit.default_timer()\n",
    "\n",
    "\n",
    "print('Time: ', stop - start)"
   ]
  },
  {
   "cell_type": "markdown",
   "metadata": {},
   "source": [
    "### Different C parameter values"
   ]
  },
  {
   "cell_type": "code",
   "execution_count": 363,
   "metadata": {},
   "outputs": [
    {
     "name": "stdout",
     "output_type": "stream",
     "text": [
      "              precision    recall  f1-score   support\n",
      "\n",
      "           0       0.76      0.84      0.80      1000\n",
      "           1       0.99      0.95      0.97      1000\n",
      "           2       0.80      0.77      0.78      1000\n",
      "           3       0.85      0.91      0.88      1000\n",
      "           4       0.79      0.84      0.81      1000\n",
      "           5       0.93      0.92      0.92      1000\n",
      "           6       0.69      0.56      0.62      1000\n",
      "           7       0.90      0.89      0.89      1000\n",
      "           8       0.95      0.96      0.96      1000\n",
      "           9       0.90      0.94      0.92      1000\n",
      "\n",
      "    accuracy                           0.86     10000\n",
      "   macro avg       0.86      0.86      0.86     10000\n",
      "weighted avg       0.86      0.86      0.86     10000\n",
      "\n",
      "Time:  1081.0637573999993\n"
     ]
    }
   ],
   "source": [
    "start = timeit.default_timer()\n",
    "\n",
    "svm = SVC(C=0.1)\n",
    "\n",
    "svm.fit(small_x_train,small_y_train)\n",
    "\n",
    "pred = svm.predict(small_x_test)\n",
    "\n",
    "print(classification_report(small_y_test, pred))\n",
    "\n",
    "stop = timeit.default_timer()\n",
    "\n",
    "\n",
    "print('Time: ', stop - start)"
   ]
  },
  {
   "cell_type": "code",
   "execution_count": 364,
   "metadata": {},
   "outputs": [
    {
     "name": "stdout",
     "output_type": "stream",
     "text": [
      "              precision    recall  f1-score   support\n",
      "\n",
      "           0       0.81      0.86      0.84      1000\n",
      "           1       0.99      0.97      0.98      1000\n",
      "           2       0.84      0.82      0.83      1000\n",
      "           3       0.89      0.92      0.90      1000\n",
      "           4       0.84      0.87      0.85      1000\n",
      "           5       0.97      0.94      0.95      1000\n",
      "           6       0.74      0.68      0.71      1000\n",
      "           7       0.92      0.94      0.93      1000\n",
      "           8       0.97      0.97      0.97      1000\n",
      "           9       0.95      0.95      0.95      1000\n",
      "\n",
      "    accuracy                           0.89     10000\n",
      "   macro avg       0.89      0.89      0.89     10000\n",
      "weighted avg       0.89      0.89      0.89     10000\n",
      "\n",
      "Time:  693.8754524999968\n"
     ]
    }
   ],
   "source": [
    "start = timeit.default_timer()\n",
    "\n",
    "svm = SVC(C=1)\n",
    "\n",
    "svm.fit(small_x_train,small_y_train)\n",
    "\n",
    "pred = svm.predict(small_x_test)\n",
    "\n",
    "print(classification_report(small_y_test, pred))\n",
    "\n",
    "stop = timeit.default_timer()\n",
    "\n",
    "\n",
    "print('Time: ', stop - start)"
   ]
  },
  {
   "cell_type": "code",
   "execution_count": 365,
   "metadata": {},
   "outputs": [
    {
     "name": "stdout",
     "output_type": "stream",
     "text": [
      "              precision    recall  f1-score   support\n",
      "\n",
      "           0       0.84      0.88      0.86      1000\n",
      "           1       0.99      0.98      0.99      1000\n",
      "           2       0.85      0.83      0.84      1000\n",
      "           3       0.91      0.92      0.91      1000\n",
      "           4       0.85      0.88      0.86      1000\n",
      "           5       0.98      0.96      0.97      1000\n",
      "           6       0.79      0.73      0.76      1000\n",
      "           7       0.94      0.96      0.95      1000\n",
      "           8       0.98      0.98      0.98      1000\n",
      "           9       0.96      0.97      0.96      1000\n",
      "\n",
      "    accuracy                           0.91     10000\n",
      "   macro avg       0.91      0.91      0.91     10000\n",
      "weighted avg       0.91      0.91      0.91     10000\n",
      "\n",
      "Time:  596.5014689999953\n"
     ]
    }
   ],
   "source": [
    "start = timeit.default_timer()\n",
    "\n",
    "svm = SVC(C=10)\n",
    "\n",
    "svm.fit(small_x_train,small_y_train)\n",
    "\n",
    "pred = svm.predict(small_x_test)\n",
    "\n",
    "print(classification_report(small_y_test, pred))\n",
    "\n",
    "stop = timeit.default_timer()\n",
    "\n",
    "\n",
    "print('Time: ', stop - start)"
   ]
  },
  {
   "cell_type": "code",
   "execution_count": 369,
   "metadata": {},
   "outputs": [
    {
     "name": "stdout",
     "output_type": "stream",
     "text": [
      "              precision    recall  f1-score   support\n",
      "\n",
      "           0       0.82      0.87      0.85      1000\n",
      "           1       0.99      0.99      0.99      1000\n",
      "           2       0.84      0.83      0.83      1000\n",
      "           3       0.91      0.91      0.91      1000\n",
      "           4       0.85      0.85      0.85      1000\n",
      "           5       0.98      0.96      0.97      1000\n",
      "           6       0.77      0.72      0.75      1000\n",
      "           7       0.95      0.96      0.95      1000\n",
      "           8       0.98      0.98      0.98      1000\n",
      "           9       0.96      0.97      0.96      1000\n",
      "\n",
      "    accuracy                           0.90     10000\n",
      "   macro avg       0.90      0.90      0.90     10000\n",
      "weighted avg       0.90      0.90      0.90     10000\n",
      "\n",
      "Time:  677.207911999998\n"
     ]
    }
   ],
   "source": [
    "start = timeit.default_timer()\n",
    "\n",
    "svm = SVC(C=10000)\n",
    "\n",
    "svm.fit(small_x_train,small_y_train)\n",
    "\n",
    "pred = svm.predict(small_x_test)\n",
    "\n",
    "print(classification_report(small_y_test, pred))\n",
    "\n",
    "stop = timeit.default_timer()\n",
    "\n",
    "\n",
    "print('Time: ', stop - start)"
   ]
  },
  {
   "cell_type": "markdown",
   "metadata": {},
   "source": [
    "### Standardization between 0 and 1"
   ]
  },
  {
   "cell_type": "code",
   "execution_count": 102,
   "metadata": {},
   "outputs": [],
   "source": [
    "# Make data standardized between 0 and 1\n",
    "\n",
    "from sklearn.preprocessing import MinMaxScaler\n",
    "scaler = MinMaxScaler()\n",
    "X_train = pd.DataFrame(scaler.fit_transform(X_train), columns = X_train.columns)\n",
    "\n",
    "\n",
    "scaler = MinMaxScaler()\n",
    "X_test = pd.DataFrame(scaler.fit_transform(X_test), columns = X_test.columns)"
   ]
  },
  {
   "cell_type": "code",
   "execution_count": 103,
   "metadata": {},
   "outputs": [
    {
     "name": "stdout",
     "output_type": "stream",
     "text": [
      "       pixel1  pixel2  pixel3    pixel4    pixel5  pixel6  pixel7    pixel8  \\\n",
      "0         0.0     0.0     0.0  0.000000  0.000000     0.0     0.0  0.000000   \n",
      "1         0.0     0.0     0.0  0.000000  0.000000     0.0     0.0  0.000000   \n",
      "2         0.0     0.0     0.0  0.000000  0.000000     0.0     0.0  0.019608   \n",
      "3         0.0     0.0     0.0  0.006098  0.008811     0.0     0.0  0.000000   \n",
      "4         0.0     0.0     0.0  0.000000  0.000000     0.0     0.0  0.000000   \n",
      "...       ...     ...     ...       ...       ...     ...     ...       ...   \n",
      "59995     0.0     0.0     0.0  0.000000  0.000000     0.0     0.0  0.000000   \n",
      "59996     0.0     0.0     0.0  0.000000  0.000000     0.0     0.0  0.000000   \n",
      "59997     0.0     0.0     0.0  0.000000  0.000000     0.0     0.0  0.000000   \n",
      "59998     0.0     0.0     0.0  0.000000  0.000000     0.0     0.0  0.000000   \n",
      "59999     0.0     0.0     0.0  0.000000  0.000000     0.0     0.0  0.000000   \n",
      "\n",
      "       pixel9  pixel10  ...  pixel775  pixel776  pixel777  pixel778  pixel779  \\\n",
      "0         0.0      0.0  ...  0.000000  0.000000  0.000000  0.000000  0.000000   \n",
      "1         0.0      0.0  ...  0.000000  0.000000  0.000000  0.000000  0.000000   \n",
      "2         0.0      0.0  ...  0.000000  0.000000  0.000000  0.117647  0.168627   \n",
      "3         0.0      0.0  ...  0.011765  0.000000  0.000000  0.000000  0.000000   \n",
      "4         0.0      0.0  ...  0.000000  0.000000  0.000000  0.000000  0.000000   \n",
      "...       ...      ...  ...       ...       ...       ...       ...       ...   \n",
      "59995     0.0      0.0  ...  0.000000  0.000000  0.000000  0.000000  0.000000   \n",
      "59996     0.0      0.0  ...  0.286275  0.000000  0.000000  0.000000  0.000000   \n",
      "59997     0.0      0.0  ...  0.627451  0.635294  0.639216  0.529412  0.368627   \n",
      "59998     0.0      0.0  ...  0.000000  0.000000  0.000000  0.000000  0.000000   \n",
      "59999     0.0      0.0  ...  0.000000  0.000000  0.000000  0.000000  0.000000   \n",
      "\n",
      "       pixel780  pixel781  pixel782  pixel783  pixel784  \n",
      "0      0.000000       0.0       0.0       0.0       0.0  \n",
      "1      0.000000       0.0       0.0       0.0       0.0  \n",
      "2      0.000000       0.0       0.0       0.0       0.0  \n",
      "3      0.003922       0.0       0.0       0.0       0.0  \n",
      "4      0.000000       0.0       0.0       0.0       0.0  \n",
      "...         ...       ...       ...       ...       ...  \n",
      "59995  0.000000       0.0       0.0       0.0       0.0  \n",
      "59996  0.000000       0.0       0.0       0.0       0.0  \n",
      "59997  0.000000       0.0       0.0       0.0       0.0  \n",
      "59998  0.000000       0.0       0.0       0.0       0.0  \n",
      "59999  0.000000       0.0       0.0       0.0       0.0  \n",
      "\n",
      "[60000 rows x 784 columns]\n"
     ]
    }
   ],
   "source": [
    "print(X_train)"
   ]
  },
  {
   "cell_type": "markdown",
   "metadata": {},
   "source": [
    "### Apply PCA to reduce dimensionality"
   ]
  },
  {
   "cell_type": "code",
   "execution_count": 105,
   "metadata": {},
   "outputs": [],
   "source": [
    "# I reduce to 200 dimensions here\n",
    "\n",
    "from sklearn.decomposition import PCA\n",
    "\n",
    "pca = PCA(n_components=200)\n",
    "X_train = pd.DataFrame(pca.fit_transform(X_train))\n",
    "\n",
    "X_test = pd.DataFrame(pca.transform(X_test))"
   ]
  },
  {
   "cell_type": "code",
   "execution_count": 106,
   "metadata": {},
   "outputs": [
    {
     "data": {
      "text/plain": [
       "((60000, 200), (60000,))"
      ]
     },
     "execution_count": 106,
     "metadata": {},
     "output_type": "execute_result"
    }
   ],
   "source": [
    "# Smaller train set of 1000 rows (I put it 60000 for the final project)\n",
    "\n",
    "small_x_train, small_y_train = create_dataset(60000)\n",
    "\n",
    "small_x_train.shape, small_y_train.shape\n"
   ]
  },
  {
   "cell_type": "code",
   "execution_count": 107,
   "metadata": {},
   "outputs": [
    {
     "data": {
      "text/plain": [
       "((10000, 200), (10000,))"
      ]
     },
     "execution_count": 107,
     "metadata": {},
     "output_type": "execute_result"
    }
   ],
   "source": [
    "# Smaller test set of 1000 rows (I put it 10000 for the final project)\n",
    "\n",
    "small_x_test, small_y_test = create_test_dataset(10000)\n",
    "\n",
    "small_x_test.shape, small_y_test.shape"
   ]
  },
  {
   "cell_type": "markdown",
   "metadata": {},
   "source": [
    "# Examples of PCA for different dimension number\n",
    "\n",
    "# *Note*: Do not run, only for reference purposes "
   ]
  },
  {
   "cell_type": "markdown",
   "metadata": {},
   "source": [
    "### SVC with reduced dimensions (700)"
   ]
  },
  {
   "cell_type": "code",
   "execution_count": 218,
   "metadata": {},
   "outputs": [
    {
     "name": "stdout",
     "output_type": "stream",
     "text": [
      "              precision    recall  f1-score   support\n",
      "\n",
      "           0       0.82      0.86      0.84      1000\n",
      "           1       0.99      0.97      0.98      1000\n",
      "           2       0.84      0.83      0.84      1000\n",
      "           3       0.90      0.92      0.91      1000\n",
      "           4       0.85      0.87      0.86      1000\n",
      "           5       0.97      0.94      0.96      1000\n",
      "           6       0.76      0.69      0.72      1000\n",
      "           7       0.93      0.95      0.94      1000\n",
      "           8       0.97      0.98      0.97      1000\n",
      "           9       0.95      0.96      0.96      1000\n",
      "\n",
      "    accuracy                           0.90     10000\n",
      "   macro avg       0.90      0.90      0.90     10000\n",
      "weighted avg       0.90      0.90      0.90     10000\n",
      "\n",
      "Time:  643.6637876999994\n"
     ]
    }
   ],
   "source": [
    "start = timeit.default_timer()\n",
    "\n",
    "svm = SVC()\n",
    "\n",
    "svm.fit(small_x_train,small_y_train)\n",
    "\n",
    "pred = svm.predict(small_x_test)\n",
    "\n",
    "print(classification_report(small_y_test, pred))\n",
    "\n",
    "stop = timeit.default_timer()\n",
    "\n",
    "\n",
    "print('Time: ', stop - start)"
   ]
  },
  {
   "cell_type": "markdown",
   "metadata": {},
   "source": [
    "### Kernel = Polynomial with reduced dimensions (700)"
   ]
  },
  {
   "cell_type": "code",
   "execution_count": 219,
   "metadata": {},
   "outputs": [
    {
     "name": "stdout",
     "output_type": "stream",
     "text": [
      "              precision    recall  f1-score   support\n",
      "\n",
      "           0       0.84      0.84      0.84      1000\n",
      "           1       0.99      0.97      0.98      1000\n",
      "           2       0.83      0.82      0.82      1000\n",
      "           3       0.90      0.91      0.91      1000\n",
      "           4       0.85      0.84      0.85      1000\n",
      "           5       0.97      0.94      0.96      1000\n",
      "           6       0.69      0.72      0.70      1000\n",
      "           7       0.93      0.95      0.94      1000\n",
      "           8       0.98      0.97      0.97      1000\n",
      "           9       0.95      0.95      0.95      1000\n",
      "\n",
      "    accuracy                           0.89     10000\n",
      "   macro avg       0.89      0.89      0.89     10000\n",
      "weighted avg       0.89      0.89      0.89     10000\n",
      "\n",
      "Time:  785.594507400001\n"
     ]
    }
   ],
   "source": [
    "start = timeit.default_timer()\n",
    "\n",
    "svm = SVC(kernel=\"poly\")\n",
    "\n",
    "svm.fit(small_x_train,small_y_train)\n",
    "\n",
    "pred = svm.predict(small_x_test)\n",
    "\n",
    "print(classification_report(small_y_test, pred))\n",
    "\n",
    "stop = timeit.default_timer()\n",
    "\n",
    "\n",
    "print('Time: ', stop - start)"
   ]
  },
  {
   "cell_type": "markdown",
   "metadata": {},
   "source": [
    "### SVC with Linear Kernel, penalty = L1, primal optimization problem and reduced dimentions (700)"
   ]
  },
  {
   "cell_type": "code",
   "execution_count": 220,
   "metadata": {},
   "outputs": [
    {
     "name": "stderr",
     "output_type": "stream",
     "text": [
      "C:\\Users\\Sotiris\\anaconda3\\lib\\site-packages\\sklearn\\svm\\_base.py:976: ConvergenceWarning: Liblinear failed to converge, increase the number of iterations.\n",
      "  warnings.warn(\"Liblinear failed to converge, increase \"\n"
     ]
    },
    {
     "name": "stdout",
     "output_type": "stream",
     "text": [
      "              precision    recall  f1-score   support\n",
      "\n",
      "           0       0.78      0.82      0.80      1000\n",
      "           1       0.96      0.97      0.96      1000\n",
      "           2       0.77      0.77      0.77      1000\n",
      "           3       0.85      0.88      0.86      1000\n",
      "           4       0.77      0.81      0.79      1000\n",
      "           5       0.93      0.91      0.92      1000\n",
      "           6       0.67      0.56      0.61      1000\n",
      "           7       0.90      0.92      0.91      1000\n",
      "           8       0.92      0.94      0.93      1000\n",
      "           9       0.93      0.94      0.94      1000\n",
      "\n",
      "    accuracy                           0.85     10000\n",
      "   macro avg       0.85      0.85      0.85     10000\n",
      "weighted avg       0.85      0.85      0.85     10000\n",
      "\n",
      "Time:  1329.8321579000003\n"
     ]
    }
   ],
   "source": [
    "start = timeit.default_timer()\n",
    "\n",
    "linearsvm = LinearSVC(penalty=\"l1\", dual=False)\n",
    "\n",
    "linearsvm.fit(small_x_train,small_y_train)\n",
    "\n",
    "pred = linearsvm.predict(small_x_test)\n",
    "\n",
    "print(classification_report(small_y_test, pred))\n",
    "\n",
    "stop = timeit.default_timer()\n",
    "\n",
    "\n",
    "print('Time: ', stop - start)"
   ]
  },
  {
   "cell_type": "markdown",
   "metadata": {},
   "source": [
    "### SVC with reduced dimentions (300)"
   ]
  },
  {
   "cell_type": "code",
   "execution_count": 225,
   "metadata": {},
   "outputs": [
    {
     "name": "stdout",
     "output_type": "stream",
     "text": [
      "              precision    recall  f1-score   support\n",
      "\n",
      "           0       0.82      0.86      0.84      1000\n",
      "           1       0.99      0.97      0.98      1000\n",
      "           2       0.84      0.83      0.83      1000\n",
      "           3       0.89      0.92      0.91      1000\n",
      "           4       0.85      0.87      0.86      1000\n",
      "           5       0.97      0.95      0.96      1000\n",
      "           6       0.75      0.69      0.72      1000\n",
      "           7       0.93      0.95      0.94      1000\n",
      "           8       0.97      0.97      0.97      1000\n",
      "           9       0.96      0.96      0.96      1000\n",
      "\n",
      "    accuracy                           0.90     10000\n",
      "   macro avg       0.90      0.90      0.90     10000\n",
      "weighted avg       0.90      0.90      0.90     10000\n",
      "\n",
      "Time:  282.5068234999999\n"
     ]
    }
   ],
   "source": [
    "start = timeit.default_timer()\n",
    "\n",
    "svm = SVC()\n",
    "\n",
    "svm.fit(small_x_train,small_y_train)\n",
    "\n",
    "pred = svm.predict(small_x_test)\n",
    "\n",
    "print(classification_report(small_y_test, pred))\n",
    "\n",
    "stop = timeit.default_timer()\n",
    "\n",
    "\n",
    "print('Time: ', stop - start)"
   ]
  },
  {
   "cell_type": "markdown",
   "metadata": {},
   "source": [
    "### Kernel = Polynomial with reduced dimentions (300)"
   ]
  },
  {
   "cell_type": "code",
   "execution_count": 226,
   "metadata": {},
   "outputs": [
    {
     "name": "stdout",
     "output_type": "stream",
     "text": [
      "              precision    recall  f1-score   support\n",
      "\n",
      "           0       0.83      0.84      0.84      1000\n",
      "           1       0.99      0.97      0.98      1000\n",
      "           2       0.83      0.82      0.83      1000\n",
      "           3       0.91      0.91      0.91      1000\n",
      "           4       0.85      0.84      0.85      1000\n",
      "           5       0.97      0.94      0.96      1000\n",
      "           6       0.69      0.71      0.70      1000\n",
      "           7       0.93      0.95      0.94      1000\n",
      "           8       0.98      0.97      0.97      1000\n",
      "           9       0.95      0.95      0.95      1000\n",
      "\n",
      "    accuracy                           0.89     10000\n",
      "   macro avg       0.89      0.89      0.89     10000\n",
      "weighted avg       0.89      0.89      0.89     10000\n",
      "\n",
      "Time:  367.292754600001\n"
     ]
    }
   ],
   "source": [
    "start = timeit.default_timer()\n",
    "\n",
    "svm = SVC(kernel=\"poly\")\n",
    "\n",
    "svm.fit(small_x_train,small_y_train)\n",
    "\n",
    "pred = svm.predict(small_x_test)\n",
    "\n",
    "print(classification_report(small_y_test, pred))\n",
    "\n",
    "stop = timeit.default_timer()\n",
    "\n",
    "\n",
    "print('Time: ', stop - start)"
   ]
  },
  {
   "cell_type": "markdown",
   "metadata": {},
   "source": [
    "### SVC with Linear Kernel, penalty = L1, primal optimization problem and reduced dimentions (300)"
   ]
  },
  {
   "cell_type": "code",
   "execution_count": 227,
   "metadata": {},
   "outputs": [
    {
     "name": "stderr",
     "output_type": "stream",
     "text": [
      "C:\\Users\\Sotiris\\anaconda3\\lib\\site-packages\\sklearn\\svm\\_base.py:976: ConvergenceWarning: Liblinear failed to converge, increase the number of iterations.\n",
      "  warnings.warn(\"Liblinear failed to converge, increase \"\n"
     ]
    },
    {
     "name": "stdout",
     "output_type": "stream",
     "text": [
      "              precision    recall  f1-score   support\n",
      "\n",
      "           0       0.78      0.82      0.80      1000\n",
      "           1       0.96      0.97      0.97      1000\n",
      "           2       0.77      0.78      0.77      1000\n",
      "           3       0.84      0.88      0.86      1000\n",
      "           4       0.77      0.81      0.79      1000\n",
      "           5       0.93      0.91      0.92      1000\n",
      "           6       0.69      0.55      0.61      1000\n",
      "           7       0.90      0.91      0.91      1000\n",
      "           8       0.93      0.94      0.94      1000\n",
      "           9       0.94      0.94      0.94      1000\n",
      "\n",
      "    accuracy                           0.85     10000\n",
      "   macro avg       0.85      0.85      0.85     10000\n",
      "weighted avg       0.85      0.85      0.85     10000\n",
      "\n",
      "Time:  636.1038329000003\n"
     ]
    }
   ],
   "source": [
    "start = timeit.default_timer()\n",
    "\n",
    "linearsvm = LinearSVC(penalty=\"l1\", dual=False)\n",
    "\n",
    "linearsvm.fit(small_x_train,small_y_train)\n",
    "\n",
    "pred = linearsvm.predict(small_x_test)\n",
    "\n",
    "print(classification_report(small_y_test, pred))\n",
    "\n",
    "stop = timeit.default_timer()\n",
    "\n",
    "\n",
    "print('Time: ', stop - start)"
   ]
  },
  {
   "cell_type": "markdown",
   "metadata": {},
   "source": [
    "### SVC with reduced dimentions (200)\n"
   ]
  },
  {
   "cell_type": "code",
   "execution_count": 262,
   "metadata": {},
   "outputs": [
    {
     "name": "stdout",
     "output_type": "stream",
     "text": [
      "              precision    recall  f1-score   support\n",
      "\n",
      "           0       0.82      0.86      0.84      1000\n",
      "           1       0.99      0.98      0.98      1000\n",
      "           2       0.84      0.83      0.84      1000\n",
      "           3       0.89      0.92      0.91      1000\n",
      "           4       0.85      0.87      0.86      1000\n",
      "           5       0.97      0.94      0.96      1000\n",
      "           6       0.75      0.69      0.72      1000\n",
      "           7       0.93      0.95      0.94      1000\n",
      "           8       0.98      0.98      0.98      1000\n",
      "           9       0.96      0.96      0.96      1000\n",
      "\n",
      "    accuracy                           0.90     10000\n",
      "   macro avg       0.90      0.90      0.90     10000\n",
      "weighted avg       0.90      0.90      0.90     10000\n",
      "\n",
      "Time:  231.13959690000047\n"
     ]
    }
   ],
   "source": [
    "start = timeit.default_timer()\n",
    "\n",
    "svm = SVC()\n",
    "\n",
    "svm.fit(small_x_train,small_y_train)\n",
    "\n",
    "pred = svm.predict(small_x_test)\n",
    "\n",
    "print(classification_report(small_y_test, pred))\n",
    "\n",
    "stop = timeit.default_timer()\n",
    "\n",
    "\n",
    "print('Time: ', stop - start)"
   ]
  },
  {
   "cell_type": "markdown",
   "metadata": {},
   "source": [
    "### Kernel = Polynomial with reduced dimentions (200)"
   ]
  },
  {
   "cell_type": "code",
   "execution_count": 260,
   "metadata": {},
   "outputs": [
    {
     "name": "stdout",
     "output_type": "stream",
     "text": [
      "              precision    recall  f1-score   support\n",
      "\n",
      "           0       0.83      0.84      0.83      1000\n",
      "           1       0.99      0.97      0.98      1000\n",
      "           2       0.83      0.82      0.83      1000\n",
      "           3       0.90      0.91      0.91      1000\n",
      "           4       0.85      0.84      0.85      1000\n",
      "           5       0.97      0.94      0.96      1000\n",
      "           6       0.69      0.71      0.70      1000\n",
      "           7       0.93      0.95      0.94      1000\n",
      "           8       0.98      0.97      0.97      1000\n",
      "           9       0.96      0.95      0.95      1000\n",
      "\n",
      "    accuracy                           0.89     10000\n",
      "   macro avg       0.89      0.89      0.89     10000\n",
      "weighted avg       0.89      0.89      0.89     10000\n",
      "\n",
      "Time:  282.2584868999984\n"
     ]
    }
   ],
   "source": [
    "start = timeit.default_timer()\n",
    "\n",
    "svm = SVC(kernel=\"poly\")\n",
    "\n",
    "svm.fit(small_x_train,small_y_train)\n",
    "\n",
    "pred = svm.predict(small_x_test)\n",
    "\n",
    "print(classification_report(small_y_test, pred))\n",
    "\n",
    "stop = timeit.default_timer()\n",
    "\n",
    "\n",
    "print('Time: ', stop - start)"
   ]
  },
  {
   "cell_type": "markdown",
   "metadata": {},
   "source": [
    "### SVC with Linear Kernel, penalty = L1, primal optimization problem and reduced dimentions (200)\n"
   ]
  },
  {
   "cell_type": "code",
   "execution_count": 261,
   "metadata": {},
   "outputs": [
    {
     "name": "stdout",
     "output_type": "stream",
     "text": [
      "              precision    recall  f1-score   support\n",
      "\n",
      "           0       0.78      0.82      0.80      1000\n",
      "           1       0.96      0.97      0.97      1000\n",
      "           2       0.77      0.77      0.77      1000\n",
      "           3       0.84      0.88      0.86      1000\n",
      "           4       0.77      0.81      0.79      1000\n",
      "           5       0.92      0.92      0.92      1000\n",
      "           6       0.68      0.54      0.60      1000\n",
      "           7       0.91      0.92      0.91      1000\n",
      "           8       0.93      0.95      0.94      1000\n",
      "           9       0.94      0.94      0.94      1000\n",
      "\n",
      "    accuracy                           0.85     10000\n",
      "   macro avg       0.85      0.85      0.85     10000\n",
      "weighted avg       0.85      0.85      0.85     10000\n",
      "\n",
      "Time:  451.3557182000004\n"
     ]
    },
    {
     "name": "stderr",
     "output_type": "stream",
     "text": [
      "C:\\Users\\Sotiris\\anaconda3\\lib\\site-packages\\sklearn\\svm\\_base.py:976: ConvergenceWarning: Liblinear failed to converge, increase the number of iterations.\n",
      "  warnings.warn(\"Liblinear failed to converge, increase \"\n"
     ]
    }
   ],
   "source": [
    "start = timeit.default_timer()\n",
    "\n",
    "linearsvm = LinearSVC(penalty=\"l1\", dual=False)\n",
    "\n",
    "linearsvm.fit(small_x_train,small_y_train)\n",
    "\n",
    "pred = linearsvm.predict(small_x_test)\n",
    "\n",
    "print(classification_report(small_y_test, pred))\n",
    "\n",
    "stop = timeit.default_timer()\n",
    "\n",
    "\n",
    "print('Time: ', stop - start)"
   ]
  },
  {
   "cell_type": "markdown",
   "metadata": {},
   "source": [
    "### SVC with reduced dimentions (100)"
   ]
  },
  {
   "cell_type": "code",
   "execution_count": 231,
   "metadata": {},
   "outputs": [
    {
     "name": "stdout",
     "output_type": "stream",
     "text": [
      "              precision    recall  f1-score   support\n",
      "\n",
      "           0       0.81      0.85      0.83      1000\n",
      "           1       0.99      0.97      0.98      1000\n",
      "           2       0.84      0.83      0.83      1000\n",
      "           3       0.89      0.92      0.90      1000\n",
      "           4       0.84      0.87      0.85      1000\n",
      "           5       0.97      0.94      0.96      1000\n",
      "           6       0.74      0.67      0.71      1000\n",
      "           7       0.92      0.95      0.94      1000\n",
      "           8       0.97      0.97      0.97      1000\n",
      "           9       0.96      0.96      0.96      1000\n",
      "\n",
      "    accuracy                           0.89     10000\n",
      "   macro avg       0.89      0.89      0.89     10000\n",
      "weighted avg       0.89      0.89      0.89     10000\n",
      "\n",
      "Time:  134.07889980000073\n"
     ]
    }
   ],
   "source": [
    "start = timeit.default_timer()\n",
    "\n",
    "svm = SVC()\n",
    "\n",
    "svm.fit(small_x_train,small_y_train)\n",
    "\n",
    "pred = svm.predict(small_x_test)\n",
    "\n",
    "print(classification_report(small_y_test, pred))\n",
    "\n",
    "stop = timeit.default_timer()\n",
    "\n",
    "\n",
    "print('Time: ', stop - start)"
   ]
  },
  {
   "cell_type": "markdown",
   "metadata": {},
   "source": [
    "### Kernel = Polynomial with reduced dimentions (100)"
   ]
  },
  {
   "cell_type": "code",
   "execution_count": 232,
   "metadata": {},
   "outputs": [
    {
     "name": "stdout",
     "output_type": "stream",
     "text": [
      "              precision    recall  f1-score   support\n",
      "\n",
      "           0       0.83      0.84      0.83      1000\n",
      "           1       0.99      0.97      0.98      1000\n",
      "           2       0.82      0.81      0.82      1000\n",
      "           3       0.90      0.91      0.90      1000\n",
      "           4       0.84      0.84      0.84      1000\n",
      "           5       0.97      0.94      0.95      1000\n",
      "           6       0.68      0.70      0.69      1000\n",
      "           7       0.92      0.95      0.94      1000\n",
      "           8       0.98      0.97      0.97      1000\n",
      "           9       0.96      0.95      0.96      1000\n",
      "\n",
      "    accuracy                           0.89     10000\n",
      "   macro avg       0.89      0.89      0.89     10000\n",
      "weighted avg       0.89      0.89      0.89     10000\n",
      "\n",
      "Time:  153.0095939999992\n"
     ]
    }
   ],
   "source": [
    "start = timeit.default_timer()\n",
    "\n",
    "svm = SVC(kernel=\"poly\")\n",
    "\n",
    "svm.fit(small_x_train,small_y_train)\n",
    "\n",
    "pred = svm.predict(small_x_test)\n",
    "\n",
    "print(classification_report(small_y_test, pred))\n",
    "\n",
    "stop = timeit.default_timer()\n",
    "\n",
    "\n",
    "print('Time: ', stop - start)"
   ]
  },
  {
   "cell_type": "markdown",
   "metadata": {},
   "source": [
    "### SVC with Linear Kernel, penalty = L1, primal optimization problem and reduced dimentions (100)\n"
   ]
  },
  {
   "cell_type": "code",
   "execution_count": 233,
   "metadata": {},
   "outputs": [
    {
     "name": "stdout",
     "output_type": "stream",
     "text": [
      "              precision    recall  f1-score   support\n",
      "\n",
      "           0       0.77      0.81      0.79      1000\n",
      "           1       0.96      0.97      0.97      1000\n",
      "           2       0.77      0.76      0.76      1000\n",
      "           3       0.83      0.88      0.85      1000\n",
      "           4       0.77      0.81      0.79      1000\n",
      "           5       0.93      0.92      0.92      1000\n",
      "           6       0.67      0.54      0.60      1000\n",
      "           7       0.91      0.91      0.91      1000\n",
      "           8       0.92      0.95      0.93      1000\n",
      "           9       0.93      0.95      0.94      1000\n",
      "\n",
      "    accuracy                           0.85     10000\n",
      "   macro avg       0.84      0.85      0.85     10000\n",
      "weighted avg       0.84      0.85      0.85     10000\n",
      "\n",
      "Time:  199.2042599999986\n"
     ]
    },
    {
     "name": "stderr",
     "output_type": "stream",
     "text": [
      "C:\\Users\\Sotiris\\anaconda3\\lib\\site-packages\\sklearn\\svm\\_base.py:976: ConvergenceWarning: Liblinear failed to converge, increase the number of iterations.\n",
      "  warnings.warn(\"Liblinear failed to converge, increase \"\n"
     ]
    }
   ],
   "source": [
    "start = timeit.default_timer()\n",
    "\n",
    "linearsvm = LinearSVC(penalty=\"l1\", dual=False)\n",
    "\n",
    "linearsvm.fit(small_x_train,small_y_train)\n",
    "\n",
    "pred = linearsvm.predict(small_x_test)\n",
    "\n",
    "print(classification_report(small_y_test, pred))\n",
    "\n",
    "stop = timeit.default_timer()\n",
    "\n",
    "\n",
    "print('Time: ', stop - start)"
   ]
  },
  {
   "cell_type": "markdown",
   "metadata": {},
   "source": [
    "### SVC with reduced dimentions (20)"
   ]
  },
  {
   "cell_type": "code",
   "execution_count": 237,
   "metadata": {},
   "outputs": [
    {
     "name": "stdout",
     "output_type": "stream",
     "text": [
      "              precision    recall  f1-score   support\n",
      "\n",
      "           0       0.78      0.84      0.81      1000\n",
      "           1       0.98      0.96      0.97      1000\n",
      "           2       0.80      0.78      0.79      1000\n",
      "           3       0.86      0.89      0.88      1000\n",
      "           4       0.79      0.82      0.81      1000\n",
      "           5       0.94      0.91      0.93      1000\n",
      "           6       0.69      0.61      0.65      1000\n",
      "           7       0.89      0.90      0.90      1000\n",
      "           8       0.95      0.97      0.96      1000\n",
      "           9       0.92      0.94      0.93      1000\n",
      "\n",
      "    accuracy                           0.86     10000\n",
      "   macro avg       0.86      0.86      0.86     10000\n",
      "weighted avg       0.86      0.86      0.86     10000\n",
      "\n",
      "Time:  61.614600099997915\n"
     ]
    }
   ],
   "source": [
    "start = timeit.default_timer()\n",
    "\n",
    "svm = SVC()\n",
    "\n",
    "svm.fit(small_x_train,small_y_train)\n",
    "\n",
    "pred = svm.predict(small_x_test)\n",
    "\n",
    "print(classification_report(small_y_test, pred))\n",
    "\n",
    "stop = timeit.default_timer()\n",
    "\n",
    "\n",
    "print('Time: ', stop - start)"
   ]
  },
  {
   "cell_type": "markdown",
   "metadata": {},
   "source": [
    "### Kernel = Polynomial with reduced dimentions (20)"
   ]
  },
  {
   "cell_type": "code",
   "execution_count": 238,
   "metadata": {},
   "outputs": [
    {
     "name": "stdout",
     "output_type": "stream",
     "text": [
      "              precision    recall  f1-score   support\n",
      "\n",
      "           0       0.79      0.83      0.81      1000\n",
      "           1       0.99      0.96      0.97      1000\n",
      "           2       0.80      0.76      0.78      1000\n",
      "           3       0.88      0.89      0.89      1000\n",
      "           4       0.80      0.80      0.80      1000\n",
      "           5       0.95      0.92      0.93      1000\n",
      "           6       0.62      0.63      0.63      1000\n",
      "           7       0.90      0.91      0.90      1000\n",
      "           8       0.96      0.96      0.96      1000\n",
      "           9       0.92      0.94      0.93      1000\n",
      "\n",
      "    accuracy                           0.86     10000\n",
      "   macro avg       0.86      0.86      0.86     10000\n",
      "weighted avg       0.86      0.86      0.86     10000\n",
      "\n",
      "Time:  48.44426899999962\n"
     ]
    }
   ],
   "source": [
    "start = timeit.default_timer()\n",
    "\n",
    "svm = SVC(kernel=\"poly\")\n",
    "\n",
    "svm.fit(small_x_train,small_y_train)\n",
    "\n",
    "pred = svm.predict(small_x_test)\n",
    "\n",
    "print(classification_report(small_y_test, pred))\n",
    "\n",
    "stop = timeit.default_timer()\n",
    "\n",
    "\n",
    "print('Time: ', stop - start)"
   ]
  },
  {
   "cell_type": "markdown",
   "metadata": {},
   "source": [
    "### SVC with Linear Kernel, penalty = L1, primal optimization problem and reduced dimentions (20)\n"
   ]
  },
  {
   "cell_type": "code",
   "execution_count": 239,
   "metadata": {},
   "outputs": [
    {
     "name": "stdout",
     "output_type": "stream",
     "text": [
      "              precision    recall  f1-score   support\n",
      "\n",
      "           0       0.72      0.79      0.76      1000\n",
      "           1       0.94      0.94      0.94      1000\n",
      "           2       0.69      0.69      0.69      1000\n",
      "           3       0.77      0.85      0.81      1000\n",
      "           4       0.66      0.80      0.72      1000\n",
      "           5       0.83      0.86      0.85      1000\n",
      "           6       0.63      0.30      0.41      1000\n",
      "           7       0.86      0.82      0.84      1000\n",
      "           8       0.90      0.93      0.92      1000\n",
      "           9       0.87      0.92      0.90      1000\n",
      "\n",
      "    accuracy                           0.79     10000\n",
      "   macro avg       0.79      0.79      0.78     10000\n",
      "weighted avg       0.79      0.79      0.78     10000\n",
      "\n",
      "Time:  21.65163460000258\n"
     ]
    },
    {
     "name": "stderr",
     "output_type": "stream",
     "text": [
      "C:\\Users\\Sotiris\\anaconda3\\lib\\site-packages\\sklearn\\svm\\_base.py:976: ConvergenceWarning: Liblinear failed to converge, increase the number of iterations.\n",
      "  warnings.warn(\"Liblinear failed to converge, increase \"\n"
     ]
    }
   ],
   "source": [
    "start = timeit.default_timer()\n",
    "\n",
    "linearsvm = LinearSVC(penalty=\"l1\", dual=False)\n",
    "\n",
    "linearsvm.fit(small_x_train,small_y_train)\n",
    "\n",
    "pred = linearsvm.predict(small_x_test)\n",
    "\n",
    "print(classification_report(small_y_test, pred))\n",
    "\n",
    "stop = timeit.default_timer()\n",
    "\n",
    "\n",
    "print('Time: ', stop - start)"
   ]
  },
  {
   "cell_type": "markdown",
   "metadata": {},
   "source": [
    "# You can run again here:"
   ]
  },
  {
   "cell_type": "markdown",
   "metadata": {},
   "source": [
    "\n",
    "\n",
    "# Best Model: (kernel=rbf, PCA=200, C=10)\n",
    "\n",
    "\n"
   ]
  },
  {
   "cell_type": "code",
   "execution_count": 81,
   "metadata": {},
   "outputs": [
    {
     "name": "stdout",
     "output_type": "stream",
     "text": [
      "              precision    recall  f1-score   support\n",
      "\n",
      "           0       0.84      0.88      0.86      1000\n",
      "           1       0.99      0.98      0.99      1000\n",
      "           2       0.85      0.84      0.84      1000\n",
      "           3       0.91      0.92      0.91      1000\n",
      "           4       0.86      0.88      0.87      1000\n",
      "           5       0.98      0.96      0.97      1000\n",
      "           6       0.80      0.73      0.76      1000\n",
      "           7       0.94      0.96      0.95      1000\n",
      "           8       0.98      0.98      0.98      1000\n",
      "           9       0.96      0.97      0.96      1000\n",
      "\n",
      "    accuracy                           0.91     10000\n",
      "   macro avg       0.91      0.91      0.91     10000\n",
      "weighted avg       0.91      0.91      0.91     10000\n",
      "\n",
      "Time:  203.42373490000045\n"
     ]
    }
   ],
   "source": [
    "start = timeit.default_timer()\n",
    "\n",
    "svm = SVC(kernel='rbf',C=10,random_state=42)\n",
    "\n",
    "svm.fit(small_x_train,small_y_train)\n",
    "\n",
    "pred = svm.predict(small_x_test)\n",
    "\n",
    "print(classification_report(small_y_test, pred))\n",
    "\n",
    "stop = timeit.default_timer()\n",
    "\n",
    "\n",
    "print('Time: ', stop - start)"
   ]
  },
  {
   "cell_type": "markdown",
   "metadata": {},
   "source": [
    "### Confusion Matrix on test set prediction"
   ]
  },
  {
   "cell_type": "code",
   "execution_count": 78,
   "metadata": {},
   "outputs": [
    {
     "name": "stdout",
     "output_type": "stream",
     "text": [
      "[[880   0  17  19   0   1  77   0   6   0]\n",
      " [  4 982   2  11   0   0   1   0   0   0]\n",
      " [ 14   1 840  16  74   0  52   0   3   0]\n",
      " [ 23   8   9 923  23   0  13   0   1   0]\n",
      " [  1   0  55  25 876   0  42   0   1   0]\n",
      " [  0   0   0   0   0 962   1  25   3   9]\n",
      " [125   0  67  23  46   0 732   0   7   0]\n",
      " [  0   0   0   0   0  11   0 958   0  31]\n",
      " [  5   0   4   1   1   1   2   1 984   1]\n",
      " [  0   0   0   0   0   3   0  30   0 967]]\n"
     ]
    }
   ],
   "source": [
    "print(confusion_matrix(small_y_test, pred))"
   ]
  },
  {
   "cell_type": "code",
   "execution_count": 79,
   "metadata": {},
   "outputs": [
    {
     "data": {
      "image/png": "[encoded data removed]",
      "text/plain": [
       "<Figure size 504x792 with 2 Axes>"
      ]
     },
     "metadata": {
      "needs_background": "light"
     },
     "output_type": "display_data"
    }
   ],
   "source": [
    "import matplotlib.pyplot as plt\n",
    "from sklearn.model_selection import learning_curve\n",
    "from sklearn.model_selection import ShuffleSplit\n",
    "\n",
    "\n",
    "def plot_learning_curve(estimator, title, X, y, axes=None, ylim=None, cv=None,\n",
    "                        n_jobs=None, train_sizes=np.linspace(.1, 1.0, 5)):\n",
    "    \n",
    "\n",
    "    if axes is None:\n",
    "        _, axes = plt.subplots(1, 3, figsize=(20, 5))\n",
    "\n",
    "    axes[0].set_title(title)\n",
    "    if ylim is not None:\n",
    "        axes[0].set_ylim(*ylim)\n",
    "    axes[0].set_xlabel(\"Training examples\")\n",
    "    axes[0].set_ylabel(\"Score\")\n",
    "\n",
    "    train_sizes, train_scores, test_scores, fit_times, _ = \\\n",
    "        learning_curve(estimator, X, y, cv=cv, n_jobs=n_jobs,\n",
    "                       train_sizes=train_sizes,\n",
    "                       return_times=True)\n",
    "    train_scores_mean = np.mean(train_scores, axis=1)\n",
    "    train_scores_std = np.std(train_scores, axis=1)\n",
    "    test_scores_mean = np.mean(test_scores, axis=1)\n",
    "    test_scores_std = np.std(test_scores, axis=1)\n",
    "    fit_times_mean = np.mean(fit_times, axis=1)\n",
    "    fit_times_std = np.std(fit_times, axis=1)\n",
    "\n",
    "    # Plot learning curve\n",
    "    axes[0].grid()\n",
    "    axes[0].fill_between(train_sizes, train_scores_mean - train_scores_std,\n",
    "                         train_scores_mean + train_scores_std, alpha=0.1,\n",
    "                         color=\"r\")\n",
    "    axes[0].fill_between(train_sizes, test_scores_mean - test_scores_std,\n",
    "                         test_scores_mean + test_scores_std, alpha=0.1,\n",
    "                         color=\"g\")\n",
    "    axes[0].plot(train_sizes, train_scores_mean, 'o-', color=\"r\",\n",
    "                 label=\"Training score\")\n",
    "    axes[0].plot(train_sizes, test_scores_mean, 'o-', color=\"g\",\n",
    "                 label=\"Cross-validation score\")\n",
    "    axes[0].legend(loc=\"best\")\n",
    "\n",
    "    # Plot fit_time vs score\n",
    "    axes[1].grid()\n",
    "    axes[1].plot(fit_times_mean, test_scores_mean, 'o-')\n",
    "    axes[1].fill_between(fit_times_mean, test_scores_mean - test_scores_std,\n",
    "                         test_scores_mean + test_scores_std, alpha=0.1)\n",
    "    axes[1].set_xlabel(\"fit_times\")\n",
    "    axes[1].set_ylabel(\"Score\")\n",
    "    axes[1].set_title(\"Performance of the model\")\n",
    "\n",
    "    return plt\n",
    "\n",
    "\n",
    "fig, axes = plt.subplots(2, 1, figsize=(7, 11))\n",
    "\n",
    "X, y = small_x_train, small_y_train\n",
    "\n",
    "\n",
    "title = r\"Learning Curves (SVM, RBF kernel, $\\gamma=0.001$)\"\n",
    "# SVC is more expensive so we do a lower number of CV iterations:\n",
    "cv = ShuffleSplit(n_splits=3, test_size=0.2, random_state=0)\n",
    "plot_learning_curve(svm, title, X, y, axes=axes[:], ylim=(0.65, 1.01),\n",
    "                    cv=cv, n_jobs=4)\n",
    "\n",
    "plt.show()"
   ]
  },
  {
   "cell_type": "code",
   "execution_count": 82,
   "metadata": {},
   "outputs": [
    {
     "name": "stdout",
     "output_type": "stream",
     "text": [
      "              precision    recall  f1-score   support\n",
      "\n",
      "           0       0.94      0.97      0.95      6000\n",
      "           1       1.00      1.00      1.00      6000\n",
      "           2       0.95      0.95      0.95      6000\n",
      "           3       0.97      0.98      0.97      6000\n",
      "           4       0.94      0.95      0.95      6000\n",
      "           5       1.00      1.00      1.00      6000\n",
      "           6       0.94      0.91      0.92      6000\n",
      "           7       0.98      0.99      0.99      6000\n",
      "           8       1.00      1.00      1.00      6000\n",
      "           9       0.99      0.99      0.99      6000\n",
      "\n",
      "    accuracy                           0.97     60000\n",
      "   macro avg       0.97      0.97      0.97     60000\n",
      "weighted avg       0.97      0.97      0.97     60000\n",
      "\n",
      "Time:  408.4228223\n"
     ]
    }
   ],
   "source": [
    "start = timeit.default_timer()\n",
    "\n",
    "svm = SVC(kernel='rbf',C=10,random_state=42)\n",
    "\n",
    "svm.fit(small_x_train,small_y_train)\n",
    "\n",
    "pred = svm.predict(small_x_train)\n",
    "\n",
    "print(classification_report(small_y_train, pred))\n",
    "\n",
    "stop = timeit.default_timer()\n",
    "\n",
    "\n",
    "print('Time: ', stop - start)"
   ]
  },
  {
   "cell_type": "markdown",
   "metadata": {},
   "source": [
    "### Confusion Matrix on training set prediction"
   ]
  },
  {
   "cell_type": "code",
   "execution_count": 83,
   "metadata": {},
   "outputs": [
    {
     "name": "stdout",
     "output_type": "stream",
     "text": [
      "[[5792    0   20   45    1    0  140    0    2    0]\n",
      " [   0 5974    0   25    0    0    1    0    0    0]\n",
      " [  25    0 5706   22  184    0   63    0    0    0]\n",
      " [  28    0    9 5869   74    0   20    0    0    0]\n",
      " [   2    2  126   59 5710    0  101    0    0    0]\n",
      " [   0    0    0    0    0 5971    0   29    0    0]\n",
      " [ 283    2  115   56  107    0 5437    0    0    0]\n",
      " [   0    0    0    0    0    9    0 5958    0   33]\n",
      " [   0    1    1    0    1    0    2    1 5994    0]\n",
      " [   0    0    0    0    0    3    0   83    0 5914]]\n"
     ]
    }
   ],
   "source": [
    "print(confusion_matrix(small_y_train, pred))"
   ]
  },
  {
   "cell_type": "markdown",
   "metadata": {},
   "source": [
    "## Παράδειγμα εσφαλμένης κατηγοριοποίησης"
   ]
  },
  {
   "cell_type": "code",
   "execution_count": 104,
   "metadata": {},
   "outputs": [
    {
     "name": "stdout",
     "output_type": "stream",
     "text": [
      "Example of wrong classification:\n",
      "Predicted: = T-shirt/top\n",
      "True value: = Pullover\n"
     ]
    },
    {
     "data": {
      "image/png": "[encoded data removed]",
      "text/plain": [
       "<Figure size 432x288 with 1 Axes>"
      ]
     },
     "metadata": {
      "needs_background": "light"
     },
     "output_type": "display_data"
    }
   ],
   "source": [
    "# Example of wrong classification\n",
    "\n",
    "for i in range(len(pred)):\n",
    "    if(pred[i]!=small_y_train[i]):\n",
    "        c=i\n",
    "\n",
    "print(\"Example of wrong classification:\")\n",
    "print(\"Predicted: = \" + fashionmnist[str(pred[c])])\n",
    "print(\"True value: = \" + fashionmnist[str(small_y_train[c])])\n",
    "image = small_x_train.iloc[c]\n",
    "temp = np.array(image)\n",
    "temp = np.reshape(temp, (28,28))\n",
    "# plot the sample\n",
    "fig = plt.figure\n",
    "plt.imshow(temp, cmap='gray')\n",
    "plt.show()"
   ]
  },
  {
   "cell_type": "markdown",
   "metadata": {},
   "source": [
    "## Παράδειγμα σωστής κατηγοριοποίησης"
   ]
  },
  {
   "cell_type": "code",
   "execution_count": 813,
   "metadata": {},
   "outputs": [
    {
     "name": "stdout",
     "output_type": "stream",
     "text": [
      "Example of correct classification:\n",
      "Predicted: = Sneaker\n",
      "True value: = Sneaker\n"
     ]
    },
    {
     "data": {
      "image/png": "[encoded data removed]",
      "text/plain": [
       "<Figure size 432x288 with 1 Axes>"
      ]
     },
     "metadata": {
      "needs_background": "light"
     },
     "output_type": "display_data"
    }
   ],
   "source": [
    "# Example of correct classification\n",
    "\n",
    "for i in range(len(pred)):\n",
    "    if(pred[i]==small_y_train[i]):\n",
    "        c=i\n",
    "\n",
    "print(\"Example of correct classification:\")\n",
    "print(\"Predicted: = \" + fashionmnist[str(pred[c])])\n",
    "print(\"True value: = \" + fashionmnist[str(small_y_train[c])])\n",
    "image = small_x_train.iloc[c]\n",
    "temp = np.array(image)\n",
    "temp = np.reshape(temp, (28,28))\n",
    "# plot the sample\n",
    "fig = plt.figure\n",
    "plt.imshow(temp, cmap='gray')\n",
    "plt.show()"
   ]
  },
  {
   "cell_type": "markdown",
   "metadata": {},
   "source": [
    "# ΠΕΙΡΑΜΑΤΙΣΜΟΙ ΚΑΙ ΣΥΓΚΡΙΣΕΙΣ ΠΑΡΑΜΕΤΡΩΝ"
   ]
  },
  {
   "cell_type": "markdown",
   "metadata": {},
   "source": [
    "## Πειραματισμός με διαφορετικα kernels ( συγκρίσεις ακρίβειας ως προς πλήθος training δεδομενων )"
   ]
  },
  {
   "cell_type": "code",
   "execution_count": 378,
   "metadata": {},
   "outputs": [
    {
     "data": {
      "image/png": "[encoded data removed]",
      "text/plain": [
       "<Figure size 432x288 with 1 Axes>"
      ]
     },
     "metadata": {
      "needs_background": "light"
     },
     "output_type": "display_data"
    }
   ],
   "source": [
    "# EXPERIMENT NO.1\n",
    "\n",
    "import matplotlib.pyplot as plt \n",
    "import matplotlib.patches as mpatches\n",
    "  \n",
    "# x axis values \n",
    "x = [1000,10000,30000,60000] \n",
    "\n",
    "# corresponding y axis values \n",
    "no1 = [0.80,0.86,0.88,0.89] \n",
    "no2 = [0.75,0.83,0.86,0.87] \n",
    "no3 = [0.75,0.75,0.79,0.77]\n",
    "no4 = [0.41,0.36,0.37,0.38]\n",
    "  \n",
    "# plotting the points  \n",
    "plt.plot(x, no1, color='red', linewidth = 2) \n",
    "plt.plot(x, no2, color='blue', linewidth = 2) \n",
    "plt.plot(x, no3, color='green', linewidth = 2) \n",
    "plt.plot(x, no4, color='purple', linewidth = 2) \n",
    "\n",
    "red = mpatches.Patch(color='red', label='rbf')\n",
    "blue = mpatches.Patch(color='blue', label='poly (3rd)')\n",
    "green = mpatches.Patch(color='green', label='linear')\n",
    "purple = mpatches.Patch(color='purple', label='sigmoid')\n",
    "plt.legend(handles=[red,blue,green,purple])\n",
    "  \n",
    "# setting x and y axis range \n",
    "plt.ylim(0.3,1) \n",
    "plt.xlim(1,60000) \n",
    "  \n",
    "# naming the x axis \n",
    "plt.xlabel('Number of training set samples') \n",
    "# naming the y axis \n",
    "plt.ylabel('Accuracy on Test set') \n",
    "  \n",
    "# giving a title to my graph \n",
    "plt.title('Different kernels, Default parameters') \n",
    "  \n",
    "# function to show the plot \n",
    "plt.show() "
   ]
  },
  {
   "cell_type": "markdown",
   "metadata": {},
   "source": [
    "## Πειραματισμός με διαφορετικα kernels ( συγκρίσεις χρόνου ως προς πλήθος training δεδομενων )"
   ]
  },
  {
   "cell_type": "code",
   "execution_count": 368,
   "metadata": {},
   "outputs": [
    {
     "data": {
      "image/png": "[encoded data removed]",
      "text/plain": [
       "<Figure size 432x288 with 1 Axes>"
      ]
     },
     "metadata": {
      "needs_background": "light"
     },
     "output_type": "display_data"
    }
   ],
   "source": [
    "# EXPERIMENT NO.2\n",
    "\n",
    "import matplotlib.pyplot as plt \n",
    "import matplotlib.patches as mpatches\n",
    "  \n",
    "# x axis values \n",
    "x = [1000,10000,30000,60000] \n",
    "\n",
    "# corresponding y axis values \n",
    "no1 = [7,62,251,680] \n",
    "no2 = [5,62,278,830] \n",
    "no3 = [1,24,150,382]\n",
    "no4 = [7,98,557,1866]\n",
    "  \n",
    "# plotting the points  \n",
    "plt.plot(x, no1, color='red', linewidth = 2) \n",
    "plt.plot(x, no2, color='blue', linewidth = 2) \n",
    "plt.plot(x, no3, color='green', linewidth = 2) \n",
    "plt.plot(x, no4, color='purple', linewidth = 2) \n",
    "\n",
    "red = mpatches.Patch(color='red', label='rbf')\n",
    "blue = mpatches.Patch(color='blue', label='poly (3rd)')\n",
    "green = mpatches.Patch(color='green', label='linear')\n",
    "purple = mpatches.Patch(color='purple', label='sigmoid')\n",
    "plt.legend(handles=[red,blue,green,purple])\n",
    "  \n",
    "# setting x and y axis range \n",
    "plt.ylim(0,2000) \n",
    "plt.xlim(1,60000) \n",
    "  \n",
    "# naming the x axis \n",
    "plt.xlabel('Number of training set samples') \n",
    "# naming the y axis \n",
    "plt.ylabel('Time in seconds') \n",
    "  \n",
    "# giving a title to my graph \n",
    "plt.title('Different kernels, Default parameters') \n",
    "  \n",
    "# function to show the plot \n",
    "plt.show() "
   ]
  },
  {
   "cell_type": "markdown",
   "metadata": {},
   "source": [
    "## Πειραματισμός με διαφορετικα kernels ( συγκρίσεις ακρίβειας ως προς διαφορετικό πλήθος διαστάσεων με μείωση PCA )"
   ]
  },
  {
   "cell_type": "code",
   "execution_count": 388,
   "metadata": {},
   "outputs": [
    {
     "data": {
      "image/png": "[encoded data removed]",
      "text/plain": [
       "<Figure size 432x288 with 1 Axes>"
      ]
     },
     "metadata": {
      "needs_background": "light"
     },
     "output_type": "display_data"
    }
   ],
   "source": [
    "# EXPERIMENT NO.3\n",
    "\n",
    "import matplotlib.pyplot as plt \n",
    "import matplotlib.patches as mpatches\n",
    "  \n",
    "# x axis values \n",
    "x = [20,100,200,300,700,784] \n",
    "\n",
    "# corresponding y axis values \n",
    "no1 = [0.86,0.89,0.90,0.90,0.90,0.89] \n",
    "no2 = [0.86,0.89,0.89,0.89,0.89,0.87] \n",
    "no3 = [0.79,0.85,0.85,0.85,0.85,0.85]\n",
    "  \n",
    "# plotting the points  \n",
    "plt.plot(x, no1, color='red', linewidth = 2) \n",
    "plt.plot(x, no2, color='blue', linewidth = 2) \n",
    "plt.plot(x, no3, color='green', linewidth = 2) \n",
    "\n",
    "red = mpatches.Patch(color='red', label='rbf')\n",
    "blue = mpatches.Patch(color='blue', label='poly (3rd)')\n",
    "green = mpatches.Patch(color='green', label='linear')\n",
    "plt.legend(handles=[red,blue,green])\n",
    "  \n",
    "# setting x and y axis range \n",
    "plt.ylim(0.75,1) \n",
    "plt.xlim(784,1) \n",
    "  \n",
    "# naming the x axis \n",
    "plt.xlabel('Number of dimensions') \n",
    "# naming the y axis \n",
    "plt.ylabel('Accuracy on Test set') \n",
    "  \n",
    "# giving a title to my graph \n",
    "plt.title('Different kernels, Default parameters') \n",
    "  \n",
    "# function to show the plot \n",
    "plt.show() "
   ]
  },
  {
   "cell_type": "markdown",
   "metadata": {},
   "source": [
    "## Πειραματισμός με διαφορετικα kernels ( συγκρίσεις χρόνου ως προς διαφορετικό πλήθος διαστάσεων με μείωση PCA )"
   ]
  },
  {
   "cell_type": "code",
   "execution_count": 386,
   "metadata": {},
   "outputs": [
    {
     "data": {
      "image/png": "[encoded data removed]",
      "text/plain": [
       "<Figure size 432x288 with 1 Axes>"
      ]
     },
     "metadata": {
      "needs_background": "light"
     },
     "output_type": "display_data"
    }
   ],
   "source": [
    "# EXPERIMENT NO.4\n",
    "\n",
    "import matplotlib.pyplot as plt \n",
    "import matplotlib.patches as mpatches\n",
    "  \n",
    "# x axis values \n",
    "x = [20,100,200,300,700,784] \n",
    "\n",
    "# corresponding y axis values \n",
    "no1 = [61,134,231,282,643,680] \n",
    "no2 = [48,153,282,367,785,830] \n",
    "no3 = [21,199,451,636,1229,1239]\n",
    "  \n",
    "# plotting the points  \n",
    "plt.plot(x, no1, color='red', linewidth = 2) \n",
    "plt.plot(x, no2, color='blue', linewidth = 2) \n",
    "plt.plot(x, no3, color='green', linewidth = 2) \n",
    "\n",
    "red = mpatches.Patch(color='red', label='rbf')\n",
    "blue = mpatches.Patch(color='blue', label='poly (3rd)')\n",
    "green = mpatches.Patch(color='green', label='linear')\n",
    "plt.legend(handles=[red,blue,green])\n",
    "  \n",
    "# setting x and y axis range \n",
    "plt.ylim(0,1300) \n",
    "plt.xlim(784,1) \n",
    "  \n",
    "# naming the x axis \n",
    "plt.xlabel('Number of dimensions') \n",
    "# naming the y axis \n",
    "plt.ylabel('Time in seconds') \n",
    "  \n",
    "# giving a title to my graph \n",
    "plt.title('Different kernels, Default parameters') \n",
    "  \n",
    "# function to show the plot \n",
    "plt.show() "
   ]
  },
  {
   "cell_type": "markdown",
   "metadata": {},
   "source": [
    "## Πειραματισμός με παραμετροποίηση του C ( συγκρίσεις ακρίβειας για rbf kernel μοντέλα με διαφορετικό C )"
   ]
  },
  {
   "cell_type": "code",
   "execution_count": 389,
   "metadata": {},
   "outputs": [
    {
     "data": {
      "image/png": "[encoded data removed]",
      "text/plain": [
       "<Figure size 432x288 with 1 Axes>"
      ]
     },
     "metadata": {
      "needs_background": "light"
     },
     "output_type": "display_data"
    }
   ],
   "source": [
    "# EXPERIMENT NO.5\n",
    "\n",
    "labels = ['0.1', '1', '10', '100', '10000']\n",
    "time = [0.98, 0.68, 0.59, 0.65, 0.68]\n",
    "accuracy = [0.86, 0.89, 0.91 , 0.91, 0.90]\n",
    "\n",
    "x = np.arange(len(labels))  # the label locations\n",
    "width = 0.35  # the width of the bars\n",
    "\n",
    "fig, ax = plt.subplots()\n",
    "rects1 = ax.bar(x - width/2, time, width, label='Time x 10^-3')\n",
    "rects2 = ax.bar(x + width/2, accuracy, width, label='Accuracy')\n",
    "\n",
    "# Add some text for labels, title and custom x-axis tick labels, etc.\n",
    "ax.set_ylabel('Accuracy/Time on Test set')\n",
    "ax.set_xlabel('C parameter value')\n",
    "ax.set_title('Model with kernel=rbf')\n",
    "ax.set_xticks(x)\n",
    "ax.set_xticklabels(labels)\n",
    "ax.legend()\n",
    "\n",
    "\n",
    "def autolabel(rects):\n",
    "    for rect in rects:\n",
    "        height = rect.get_height()\n",
    "        ax.annotate('{}'.format(height),\n",
    "                    xy=(rect.get_x() + rect.get_width() / 2, height),\n",
    "                    xytext=(0, 3),  # 3 points vertical offset\n",
    "                    textcoords=\"offset points\",\n",
    "                    ha='center', va='bottom')\n",
    "\n",
    "\n",
    "autolabel(rects1)\n",
    "autolabel(rects2)\n",
    "\n",
    "fig.tight_layout()\n",
    "\n",
    "plt.show()"
   ]
  },
  {
   "cell_type": "markdown",
   "metadata": {},
   "source": [
    "## Πειραματισμός με παραμετροποίηση του polynomial degree ( συγκρίσεις ακρίβειας για polynomial kernel μοντέλα με διαφορετικό degree )"
   ]
  },
  {
   "cell_type": "code",
   "execution_count": 402,
   "metadata": {},
   "outputs": [
    {
     "data": {
      "image/png": "[encoded data removed]",
      "text/plain": [
       "<Figure size 432x288 with 1 Axes>"
      ]
     },
     "metadata": {
      "needs_background": "light"
     },
     "output_type": "display_data"
    }
   ],
   "source": [
    "# EXPERIMENT NO.6\n",
    "\n",
    "labels = ['3', '5', '10']\n",
    "accuracy = [0.87, 0.84, 0.77]\n",
    "\n",
    "x = np.arange(len(labels))  # the label locations\n",
    "width = 0.55  # the width of the bars\n",
    "\n",
    "fig, ax = plt.subplots()\n",
    "rects2 = ax.bar(x + width/2, accuracy, width, label='Accuracy')\n",
    "\n",
    "# Add some text for labels, title and custom x-axis tick labels, etc.\n",
    "ax.set_ylabel('Accuracy on Test set')\n",
    "ax.set_xlabel('Polynomial degree')\n",
    "ax.set_title('Model with kernel=poly')\n",
    "ax.set_xticks(x)\n",
    "ax.set_xticklabels(labels)\n",
    "ax.legend(loc=4)\n",
    "\n",
    "\n",
    "def autolabel(rects):\n",
    "    for rect in rects:\n",
    "        height = rect.get_height()\n",
    "        ax.annotate('{}'.format(height),\n",
    "                    xy=(rect.get_x() + rect.get_width() / 2, height),\n",
    "                    xytext=(0, 3),  # 3 points vertical offset\n",
    "                    textcoords=\"offset points\",\n",
    "                    ha='center', va='bottom')\n",
    "\n",
    "\n",
    "autolabel(rects2)\n",
    "\n",
    "fig.tight_layout()\n",
    "\n",
    "plt.show()"
   ]
  },
  {
   "cell_type": "markdown",
   "metadata": {},
   "source": [
    "## Πειραματισμός με διαφορετικά kernels ( συγκρίσεις ακρίβειας μεταξύ training set και test set )"
   ]
  },
  {
   "cell_type": "code",
   "execution_count": 403,
   "metadata": {},
   "outputs": [
    {
     "data": {
      "image/png": "[encoded data removed]",
      "text/plain": [
       "<Figure size 432x288 with 1 Axes>"
      ]
     },
     "metadata": {
      "needs_background": "light"
     },
     "output_type": "display_data"
    }
   ],
   "source": [
    "# EXPERIMENT NO.7\n",
    "\n",
    "labels = ['rbf', 'poly (3rd)', 'linear']\n",
    "test = [0.89, 0.87, 0.85]\n",
    "train = [0.91, 0.91, 0.88]\n",
    "\n",
    "x = np.arange(len(labels))  # the label locations\n",
    "width = 0.35  # the width of the bars\n",
    "\n",
    "fig, ax = plt.subplots()\n",
    "rects1 = ax.bar(x - width/2, train, width, label='Training Set')\n",
    "rects2 = ax.bar(x + width/2, test, width, label='Test Set')\n",
    "\n",
    "# Add some text for labels, title and custom x-axis tick labels, etc.\n",
    "ax.set_ylabel('Accuracy')\n",
    "ax.set_xlabel('Kernel type')\n",
    "ax.set_title('Model with kernel=rbf')\n",
    "ax.set_xticks(x)\n",
    "ax.set_xticklabels(labels)\n",
    "ax.legend(loc=4)\n",
    "\n",
    "\n",
    "def autolabel(rects):\n",
    "    for rect in rects:\n",
    "        height = rect.get_height()\n",
    "        ax.annotate('{}'.format(height),\n",
    "                    xy=(rect.get_x() + rect.get_width() / 2, height),\n",
    "                    xytext=(0, 3),  # 3 points vertical offset\n",
    "                    textcoords=\"offset points\",\n",
    "                    ha='center', va='bottom')\n",
    "\n",
    "\n",
    "autolabel(rects1)\n",
    "autolabel(rects2)\n",
    "\n",
    "fig.tight_layout()\n",
    "\n",
    "plt.show()"
   ]
  },
  {
   "cell_type": "markdown",
   "metadata": {},
   "source": [
    "## Πειραματισμός με διαφορετικά gamma parameter values σε μοντέλο με kernel rbf ( συγκρίσεις ακρίβειας )"
   ]
  },
  {
   "cell_type": "code",
   "execution_count": 23,
   "metadata": {},
   "outputs": [
    {
     "data": {
      "image/png": "[encoded data removed]",
      "text/plain": [
       "<Figure size 432x288 with 1 Axes>"
      ]
     },
     "metadata": {
      "needs_background": "light"
     },
     "output_type": "display_data"
    }
   ],
   "source": [
    "# EXPERIMENT NO.8\n",
    "\n",
    "labels = ['auto', 'scale']\n",
    "accuracy = [0.88,0.87]\n",
    "\n",
    "x = np.arange(len(labels))  # the label locations\n",
    "width = 0.55  # the width of the bars\n",
    "\n",
    "fig, ax = plt.subplots()\n",
    "rects2 = ax.bar(x + width/2, accuracy, width, label='Accuracy')\n",
    "\n",
    "# Add some text for labels, title and custom x-axis tick labels, etc.\n",
    "ax.set_ylabel('Accuracy on Test set')\n",
    "ax.set_xlabel('gamma parameter')\n",
    "ax.set_title('Model with kernel=rbf')\n",
    "ax.set_xticks(x)\n",
    "ax.set_xticklabels(labels)\n",
    "ax.legend(loc=4)\n",
    "\n",
    "\n",
    "def autolabel(rects):\n",
    "    for rect in rects:\n",
    "        height = rect.get_height()\n",
    "        ax.annotate('{}'.format(height),\n",
    "                    xy=(rect.get_x() + rect.get_width() / 2, height),\n",
    "                    xytext=(0, 3),  # 3 points vertical offset\n",
    "                    textcoords=\"offset points\",\n",
    "                    ha='center', va='bottom')\n",
    "\n",
    "\n",
    "autolabel(rects2)\n",
    "\n",
    "fig.tight_layout()\n",
    "\n",
    "plt.show()"
   ]
  }
 ],
 "metadata": {
  "kernelspec": {
   "display_name": "Python 3",
   "language": "python",
   "name": "python3"
  },
  "language_info": {
   "codemirror_mode": {
    "name": "ipython",
    "version": 3
   },
   "file_extension": ".py",
   "mimetype": "text/x-python",
   "name": "python",
   "nbconvert_exporter": "python",
   "pygments_lexer": "ipython3",
   "version": "3.8.3"
  }
 },
 "nbformat": 4,
 "nbformat_minor": 4
}
